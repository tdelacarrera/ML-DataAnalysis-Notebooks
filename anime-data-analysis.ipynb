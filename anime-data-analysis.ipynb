{
 "cells": [
  {
   "cell_type": "raw",
   "metadata": {
    "id": "jkeADBGX1CfN"
   },
   "source": [
    "Enlace de donde se descargo la fuente de datos: https://www.kaggle.com/datasets/alancmathew/anime-dataset/data"
   ]
  },
  {
   "cell_type": "markdown",
   "metadata": {
    "id": "OjymDu-p1VH8"
   },
   "source": [
    "#Contexto\n",
    "\n",
    "Los datos han sido extraídos del sitio web Anime Planet, el cual es un sitio enfocado en la animación japonesa que contiene una gran colección de series animadas, las cuales pueden ser añadidas por los usuarios a listas que estos pueden crear para llevar un registro de todas sus series.\n",
    "\n",
    "Cuando los usuarios añaden una serie a su lista, estos pueden colocarla en diferentes categorías dependiendo de si ya la han visto, quieren verla, la están viendo, o la estaban viendo pero la abandonaron antes de finalizarla.\n",
    "\n",
    "El sitio también permite que los usuarios puedan votar para darle un puntaje a las series utilizando una escala de 5 estrellas.\n",
    "\n",
    "Por último, cabe señalar que en este trabajo, al utilizar el término serie, este también puede incluir películas u otro tipo de producciones animadas, pero en favor de la simplicidad, todas estas serán referidas mediante este término.\n"
   ]
  },
  {
   "cell_type": "markdown",
   "metadata": {
    "id": "RYTh2gid1hvQ"
   },
   "source": [
    "#Contenido de los datos del excel\n",
    "\n",
    "Cada fila de los datos corresponde a una serie animada y en las columnas están registrados los datos propios de la serie, como su título o el año de emisión, y también información relacionada con la interacción de los usuarios con esta, como el puntaje o la cantidad de usuarios que la han visto.\n",
    "\n",
    "También es importante señalar que todos estos datos fueron extraídos el 15 de junio del 2020, por lo cual no están considerados todos los cambios posteriores a esa fecha, como las series emitidas en los años siguientes y las de la otra mitad del mismo año 2020."
   ]
  },
  {
   "cell_type": "markdown",
   "metadata": {
    "id": "U45EJR1x16O7"
   },
   "source": [
    "#Comprension de los datos"
   ]
  },
  {
   "cell_type": "markdown",
   "metadata": {
    "id": "mAke4SPBzyEy"
   },
   "source": [
    "**Explicación de las columnas**\n",
    "\n",
    "**Title**: Corresponde al título de la serie animada.\n",
    "\n",
    "**mediaType**: Corresponde al tipo de medio al que pertenece la serie y puede tomar los valores: TV, TV Special, DVD Special, Other, Movie, Web, music video y OVA, donde este último corresponde a las siglas de \"Original Video Animation\", y en el caso de Other, se usa para clasificar a cualquier serie que no entre en las categorías anteriores.\n",
    "\n",
    "**eps**: Corresponde a la cantidad de episodios que tiene la serie.\n",
    "\n",
    "**duration**: Corresponde a la duración estimada en minutos de cada episodio de la serie.\n",
    "\n",
    "**ongoing**: Su valor de true o false indica si la serie se encuentra o no en emisión.\n",
    "\n",
    "**startYr**: Muestra el año en que la serie entró en emisión.\n",
    "\n",
    "**finisYr**: Muestra el año en que finalizó la emisión de la serie.\n",
    "\n",
    "**szOfRelease**: Indica la estación del año en el hemisferio norte en que empezó a emitirse la serie y puede tomar los valores: Spring, Fall, Winter y Summer.\n",
    "\n",
    "**description**: Corresponde a un texto que describe de qué se trata la serie.\n",
    "\n",
    "**studios**: Corresponde a los nombres de los estudios de animación detrás del desarrollo de la serie.\n",
    "\n",
    "**tags**: Muestra las categorías a las que corresponde la serie según su contenido, considerando solo contenido apropiado para todo público.\n",
    "\n",
    "**contentWarn**: Muestra las categorías a las que corresponde la serie según su contenido, considerando solo contenido que no es apropiado para todo público.\n",
    "\n",
    "**watched**: Corresponde a la cantidad de usuarios que han marcado que han visto todos los episodios de la serie.\n",
    "\n",
    "**watching**: Corresponde a la cantidad de usuarios que han marcado que se encuentran viendo la serie.\n",
    "\n",
    "**wantWatch**: Corresponde a la cantidad de usuarios que han marcado que tienen interés en ver la serie en el futuro.\n",
    "\n",
    "**dropped**: Corresponde a la cantidad de usuarios que han marcado que han visto al menos un capítulo de la serie pero la han abandonado antes de finalizarla.\n",
    "\n",
    "**rating**: Corresponde al puntaje que tiene la serie en base a los votos de los usuarios y usa una escala de 5, pudiendo tomar valores decimales.\n",
    "\n",
    "**votes**: Corresponde a la cantidad de usuarios que han votado para darle un puntaje a la serie."
   ]
  },
  {
   "cell_type": "code",
   "execution_count": 1,
   "metadata": {
    "executionInfo": {
     "elapsed": 1247,
     "status": "ok",
     "timestamp": 1697300260840,
     "user": {
      "displayName": "Tomás",
      "userId": "06061372257499144673"
     },
     "user_tz": 180
    },
    "id": "PF7I8FvtA8ff"
   },
   "outputs": [],
   "source": [
    "#Importo las libreras\n",
    "import numpy as np\n",
    "import pandas as pd\n",
    "import seaborn as sns\n",
    "import matplotlib.pyplot as plt"
   ]
  },
  {
   "cell_type": "code",
   "execution_count": 2,
   "metadata": {
    "executionInfo": {
     "elapsed": 557,
     "status": "ok",
     "timestamp": 1697300261394,
     "user": {
      "displayName": "Tomás",
      "userId": "06061372257499144673"
     },
     "user_tz": 180
    },
    "id": "Nht9f8z7_gKa"
   },
   "outputs": [],
   "source": [
    "#Cargo el archivo con los datos\n",
    "datos=pd.read_csv(\"anime.csv\", index_col=0, encoding=\"utf-8\")"
   ]
  },
  {
   "cell_type": "code",
   "execution_count": 3,
   "metadata": {
    "colab": {
     "base_uri": "https://localhost:8080/",
     "height": 1000
    },
    "executionInfo": {
     "elapsed": 12,
     "status": "ok",
     "timestamp": 1697300261395,
     "user": {
      "displayName": "Tomás",
      "userId": "06061372257499144673"
     },
     "user_tz": 180
    },
    "id": "Fjut7HVv_knH",
    "outputId": "e0133986-2655-4291-bce0-682a25c91125"
   },
   "outputs": [
    {
     "data": {
      "text/html": [
       "\n",
       "  <div id=\"df-60b44ea3-7ef6-48ac-929d-ee58a91ff8ee\" class=\"colab-df-container\">\n",
       "    <div>\n",
       "<style scoped>\n",
       "    .dataframe tbody tr th:only-of-type {\n",
       "        vertical-align: middle;\n",
       "    }\n",
       "\n",
       "    .dataframe tbody tr th {\n",
       "        vertical-align: top;\n",
       "    }\n",
       "\n",
       "    .dataframe thead th {\n",
       "        text-align: right;\n",
       "    }\n",
       "</style>\n",
       "<table border=\"1\" class=\"dataframe\">\n",
       "  <thead>\n",
       "    <tr style=\"text-align: right;\">\n",
       "      <th></th>\n",
       "      <th>mediaType</th>\n",
       "      <th>eps</th>\n",
       "      <th>duration</th>\n",
       "      <th>ongoing</th>\n",
       "      <th>startYr</th>\n",
       "      <th>finishYr</th>\n",
       "      <th>sznOfRelease</th>\n",
       "      <th>description</th>\n",
       "      <th>studios</th>\n",
       "      <th>tags</th>\n",
       "      <th>contentWarn</th>\n",
       "      <th>watched</th>\n",
       "      <th>watching</th>\n",
       "      <th>wantWatch</th>\n",
       "      <th>dropped</th>\n",
       "      <th>rating</th>\n",
       "      <th>votes</th>\n",
       "    </tr>\n",
       "    <tr>\n",
       "      <th>title</th>\n",
       "      <th></th>\n",
       "      <th></th>\n",
       "      <th></th>\n",
       "      <th></th>\n",
       "      <th></th>\n",
       "      <th></th>\n",
       "      <th></th>\n",
       "      <th></th>\n",
       "      <th></th>\n",
       "      <th></th>\n",
       "      <th></th>\n",
       "      <th></th>\n",
       "      <th></th>\n",
       "      <th></th>\n",
       "      <th></th>\n",
       "      <th></th>\n",
       "      <th></th>\n",
       "    </tr>\n",
       "  </thead>\n",
       "  <tbody>\n",
       "    <tr>\n",
       "      <th>Fullmetal Alchemist: Brotherhood</th>\n",
       "      <td>TV</td>\n",
       "      <td>64.0</td>\n",
       "      <td>NaN</td>\n",
       "      <td>False</td>\n",
       "      <td>2009.0</td>\n",
       "      <td>2010.0</td>\n",
       "      <td>Spring</td>\n",
       "      <td>The foundation of alchemy is based on the law ...</td>\n",
       "      <td>['Bones']</td>\n",
       "      <td>['Action', 'Adventure', 'Drama', 'Fantasy', 'M...</td>\n",
       "      <td>['Animal Abuse', 'Mature Themes', 'Violence', ...</td>\n",
       "      <td>103707.0</td>\n",
       "      <td>14351</td>\n",
       "      <td>25810</td>\n",
       "      <td>2656</td>\n",
       "      <td>4.702</td>\n",
       "      <td>86547.0</td>\n",
       "    </tr>\n",
       "    <tr>\n",
       "      <th>your name.</th>\n",
       "      <td>Movie</td>\n",
       "      <td>1.0</td>\n",
       "      <td>107.0</td>\n",
       "      <td>False</td>\n",
       "      <td>2016.0</td>\n",
       "      <td>2016.0</td>\n",
       "      <td>NaN</td>\n",
       "      <td>Mitsuha and Taki are two total strangers livin...</td>\n",
       "      <td>['CoMix Wave Films']</td>\n",
       "      <td>['Drama', 'Romance', 'Body Swapping', 'Gender ...</td>\n",
       "      <td>[]</td>\n",
       "      <td>58831.0</td>\n",
       "      <td>1453</td>\n",
       "      <td>21733</td>\n",
       "      <td>124</td>\n",
       "      <td>4.663</td>\n",
       "      <td>43960.0</td>\n",
       "    </tr>\n",
       "    <tr>\n",
       "      <th>A Silent Voice</th>\n",
       "      <td>Movie</td>\n",
       "      <td>1.0</td>\n",
       "      <td>130.0</td>\n",
       "      <td>False</td>\n",
       "      <td>2016.0</td>\n",
       "      <td>2016.0</td>\n",
       "      <td>NaN</td>\n",
       "      <td>After transferring into a new school, a deaf g...</td>\n",
       "      <td>['Kyoto Animation']</td>\n",
       "      <td>['Drama', 'Shounen', 'Disability', 'Melancholy...</td>\n",
       "      <td>['Bullying', 'Mature Themes', 'Suicide']</td>\n",
       "      <td>45892.0</td>\n",
       "      <td>946</td>\n",
       "      <td>17148</td>\n",
       "      <td>132</td>\n",
       "      <td>4.661</td>\n",
       "      <td>33752.0</td>\n",
       "    </tr>\n",
       "    <tr>\n",
       "      <th>Haikyuu!! Karasuno High School vs Shiratorizawa Academy</th>\n",
       "      <td>TV</td>\n",
       "      <td>10.0</td>\n",
       "      <td>NaN</td>\n",
       "      <td>False</td>\n",
       "      <td>2016.0</td>\n",
       "      <td>2016.0</td>\n",
       "      <td>Fall</td>\n",
       "      <td>Picking up where the second season ended, the ...</td>\n",
       "      <td>['Production I.G']</td>\n",
       "      <td>['Shounen', 'Sports', 'Animeism', 'School Club...</td>\n",
       "      <td>[]</td>\n",
       "      <td>25134.0</td>\n",
       "      <td>2183</td>\n",
       "      <td>8082</td>\n",
       "      <td>167</td>\n",
       "      <td>4.660</td>\n",
       "      <td>17422.0</td>\n",
       "    </tr>\n",
       "    <tr>\n",
       "      <th>Attack on Titan 3rd Season: Part II</th>\n",
       "      <td>TV</td>\n",
       "      <td>10.0</td>\n",
       "      <td>NaN</td>\n",
       "      <td>False</td>\n",
       "      <td>2019.0</td>\n",
       "      <td>2019.0</td>\n",
       "      <td>Spring</td>\n",
       "      <td>The battle to retake Wall Maria begins now! Wi...</td>\n",
       "      <td>['Wit Studio']</td>\n",
       "      <td>['Action', 'Fantasy', 'Horror', 'Shounen', 'Da...</td>\n",
       "      <td>['Cannibalism', 'Explicit Violence']</td>\n",
       "      <td>21308.0</td>\n",
       "      <td>3217</td>\n",
       "      <td>7864</td>\n",
       "      <td>174</td>\n",
       "      <td>4.650</td>\n",
       "      <td>15789.0</td>\n",
       "    </tr>\n",
       "    <tr>\n",
       "      <th>Demon Slayer: Kimetsu no Yaiba</th>\n",
       "      <td>TV</td>\n",
       "      <td>26.0</td>\n",
       "      <td>NaN</td>\n",
       "      <td>False</td>\n",
       "      <td>2019.0</td>\n",
       "      <td>2019.0</td>\n",
       "      <td>Spring</td>\n",
       "      <td>Bloodthirsty demons lurk in the woods, and nob...</td>\n",
       "      <td>['ufotable']</td>\n",
       "      <td>['Action', 'Adventure', 'Comedy', 'Drama', 'Fa...</td>\n",
       "      <td>['Violence']</td>\n",
       "      <td>28708.0</td>\n",
       "      <td>10844</td>\n",
       "      <td>13156</td>\n",
       "      <td>600</td>\n",
       "      <td>4.647</td>\n",
       "      <td>24765.0</td>\n",
       "    </tr>\n",
       "    <tr>\n",
       "      <th>Haikyuu!! Second Season</th>\n",
       "      <td>TV</td>\n",
       "      <td>25.0</td>\n",
       "      <td>NaN</td>\n",
       "      <td>False</td>\n",
       "      <td>2015.0</td>\n",
       "      <td>2016.0</td>\n",
       "      <td>Fall</td>\n",
       "      <td>After losing to Aoba Johsai at the Inter-High,...</td>\n",
       "      <td>['Production I.G']</td>\n",
       "      <td>['Shounen', 'Sports', 'School Club', 'School L...</td>\n",
       "      <td>[]</td>\n",
       "      <td>31329.0</td>\n",
       "      <td>3861</td>\n",
       "      <td>8664</td>\n",
       "      <td>264</td>\n",
       "      <td>4.639</td>\n",
       "      <td>22819.0</td>\n",
       "    </tr>\n",
       "    <tr>\n",
       "      <th>Hunter x Hunter (2011)</th>\n",
       "      <td>TV</td>\n",
       "      <td>148.0</td>\n",
       "      <td>NaN</td>\n",
       "      <td>False</td>\n",
       "      <td>2011.0</td>\n",
       "      <td>2014.0</td>\n",
       "      <td>Fall</td>\n",
       "      <td>Drawn to the mystique of the unknown, Hunters ...</td>\n",
       "      <td>['MADHOUSE']</td>\n",
       "      <td>['Action', 'Adventure', 'Drama', 'Fantasy', 'S...</td>\n",
       "      <td>['Violence']</td>\n",
       "      <td>50195.0</td>\n",
       "      <td>17730</td>\n",
       "      <td>19219</td>\n",
       "      <td>2132</td>\n",
       "      <td>4.635</td>\n",
       "      <td>46853.0</td>\n",
       "    </tr>\n",
       "    <tr>\n",
       "      <th>Gintama Kanketsu-hen: Yorozuya yo Eien Nare</th>\n",
       "      <td>Movie</td>\n",
       "      <td>1.0</td>\n",
       "      <td>111.0</td>\n",
       "      <td>False</td>\n",
       "      <td>2013.0</td>\n",
       "      <td>2013.0</td>\n",
       "      <td>NaN</td>\n",
       "      <td>While watching a movie, Gintoki comes upon a \"...</td>\n",
       "      <td>['Sunrise']</td>\n",
       "      <td>['Action', 'Comedy', 'Drama', 'Sci Fi', 'Shoun...</td>\n",
       "      <td>[]</td>\n",
       "      <td>8454.0</td>\n",
       "      <td>280</td>\n",
       "      <td>6624</td>\n",
       "      <td>150</td>\n",
       "      <td>4.625</td>\n",
       "      <td>6254.0</td>\n",
       "    </tr>\n",
       "    <tr>\n",
       "      <th>Gintama (2015)</th>\n",
       "      <td>TV</td>\n",
       "      <td>51.0</td>\n",
       "      <td>NaN</td>\n",
       "      <td>False</td>\n",
       "      <td>2015.0</td>\n",
       "      <td>2016.0</td>\n",
       "      <td>Spring</td>\n",
       "      <td>Fourth season of Gintama.</td>\n",
       "      <td>['BN Pictures']</td>\n",
       "      <td>['Action', 'Comedy', 'Drama', 'Sci Fi', 'Shoun...</td>\n",
       "      <td>[]</td>\n",
       "      <td>7862.0</td>\n",
       "      <td>3154</td>\n",
       "      <td>10565</td>\n",
       "      <td>647</td>\n",
       "      <td>4.622</td>\n",
       "      <td>7654.0</td>\n",
       "    </tr>\n",
       "  </tbody>\n",
       "</table>\n",
       "</div>\n",
       "    <div class=\"colab-df-buttons\">\n",
       "\n",
       "  <div class=\"colab-df-container\">\n",
       "    <button class=\"colab-df-convert\" onclick=\"convertToInteractive('df-60b44ea3-7ef6-48ac-929d-ee58a91ff8ee')\"\n",
       "            title=\"Convert this dataframe to an interactive table.\"\n",
       "            style=\"display:none;\">\n",
       "\n",
       "  <svg xmlns=\"http://www.w3.org/2000/svg\" height=\"24px\" viewBox=\"0 -960 960 960\">\n",
       "    <path d=\"M120-120v-720h720v720H120Zm60-500h600v-160H180v160Zm220 220h160v-160H400v160Zm0 220h160v-160H400v160ZM180-400h160v-160H180v160Zm440 0h160v-160H620v160ZM180-180h160v-160H180v160Zm440 0h160v-160H620v160Z\"/>\n",
       "  </svg>\n",
       "    </button>\n",
       "\n",
       "  <style>\n",
       "    .colab-df-container {\n",
       "      display:flex;\n",
       "      gap: 12px;\n",
       "    }\n",
       "\n",
       "    .colab-df-convert {\n",
       "      background-color: #E8F0FE;\n",
       "      border: none;\n",
       "      border-radius: 50%;\n",
       "      cursor: pointer;\n",
       "      display: none;\n",
       "      fill: #1967D2;\n",
       "      height: 32px;\n",
       "      padding: 0 0 0 0;\n",
       "      width: 32px;\n",
       "    }\n",
       "\n",
       "    .colab-df-convert:hover {\n",
       "      background-color: #E2EBFA;\n",
       "      box-shadow: 0px 1px 2px rgba(60, 64, 67, 0.3), 0px 1px 3px 1px rgba(60, 64, 67, 0.15);\n",
       "      fill: #174EA6;\n",
       "    }\n",
       "\n",
       "    .colab-df-buttons div {\n",
       "      margin-bottom: 4px;\n",
       "    }\n",
       "\n",
       "    [theme=dark] .colab-df-convert {\n",
       "      background-color: #3B4455;\n",
       "      fill: #D2E3FC;\n",
       "    }\n",
       "\n",
       "    [theme=dark] .colab-df-convert:hover {\n",
       "      background-color: #434B5C;\n",
       "      box-shadow: 0px 1px 3px 1px rgba(0, 0, 0, 0.15);\n",
       "      filter: drop-shadow(0px 1px 2px rgba(0, 0, 0, 0.3));\n",
       "      fill: #FFFFFF;\n",
       "    }\n",
       "  </style>\n",
       "\n",
       "    <script>\n",
       "      const buttonEl =\n",
       "        document.querySelector('#df-60b44ea3-7ef6-48ac-929d-ee58a91ff8ee button.colab-df-convert');\n",
       "      buttonEl.style.display =\n",
       "        google.colab.kernel.accessAllowed ? 'block' : 'none';\n",
       "\n",
       "      async function convertToInteractive(key) {\n",
       "        const element = document.querySelector('#df-60b44ea3-7ef6-48ac-929d-ee58a91ff8ee');\n",
       "        const dataTable =\n",
       "          await google.colab.kernel.invokeFunction('convertToInteractive',\n",
       "                                                    [key], {});\n",
       "        if (!dataTable) return;\n",
       "\n",
       "        const docLinkHtml = 'Like what you see? Visit the ' +\n",
       "          '<a target=\"_blank\" href=https://colab.research.google.com/notebooks/data_table.ipynb>data table notebook</a>'\n",
       "          + ' to learn more about interactive tables.';\n",
       "        element.innerHTML = '';\n",
       "        dataTable['output_type'] = 'display_data';\n",
       "        await google.colab.output.renderOutput(dataTable, element);\n",
       "        const docLink = document.createElement('div');\n",
       "        docLink.innerHTML = docLinkHtml;\n",
       "        element.appendChild(docLink);\n",
       "      }\n",
       "    </script>\n",
       "  </div>\n",
       "\n",
       "\n",
       "<div id=\"df-91b353b5-afe2-4b5d-9f4a-f4e4525cd74d\">\n",
       "  <button class=\"colab-df-quickchart\" onclick=\"quickchart('df-91b353b5-afe2-4b5d-9f4a-f4e4525cd74d')\"\n",
       "            title=\"Suggest charts.\"\n",
       "            style=\"display:none;\">\n",
       "\n",
       "<svg xmlns=\"http://www.w3.org/2000/svg\" height=\"24px\"viewBox=\"0 0 24 24\"\n",
       "     width=\"24px\">\n",
       "    <g>\n",
       "        <path d=\"M19 3H5c-1.1 0-2 .9-2 2v14c0 1.1.9 2 2 2h14c1.1 0 2-.9 2-2V5c0-1.1-.9-2-2-2zM9 17H7v-7h2v7zm4 0h-2V7h2v10zm4 0h-2v-4h2v4z\"/>\n",
       "    </g>\n",
       "</svg>\n",
       "  </button>\n",
       "\n",
       "<style>\n",
       "  .colab-df-quickchart {\n",
       "      --bg-color: #E8F0FE;\n",
       "      --fill-color: #1967D2;\n",
       "      --hover-bg-color: #E2EBFA;\n",
       "      --hover-fill-color: #174EA6;\n",
       "      --disabled-fill-color: #AAA;\n",
       "      --disabled-bg-color: #DDD;\n",
       "  }\n",
       "\n",
       "  [theme=dark] .colab-df-quickchart {\n",
       "      --bg-color: #3B4455;\n",
       "      --fill-color: #D2E3FC;\n",
       "      --hover-bg-color: #434B5C;\n",
       "      --hover-fill-color: #FFFFFF;\n",
       "      --disabled-bg-color: #3B4455;\n",
       "      --disabled-fill-color: #666;\n",
       "  }\n",
       "\n",
       "  .colab-df-quickchart {\n",
       "    background-color: var(--bg-color);\n",
       "    border: none;\n",
       "    border-radius: 50%;\n",
       "    cursor: pointer;\n",
       "    display: none;\n",
       "    fill: var(--fill-color);\n",
       "    height: 32px;\n",
       "    padding: 0;\n",
       "    width: 32px;\n",
       "  }\n",
       "\n",
       "  .colab-df-quickchart:hover {\n",
       "    background-color: var(--hover-bg-color);\n",
       "    box-shadow: 0 1px 2px rgba(60, 64, 67, 0.3), 0 1px 3px 1px rgba(60, 64, 67, 0.15);\n",
       "    fill: var(--button-hover-fill-color);\n",
       "  }\n",
       "\n",
       "  .colab-df-quickchart-complete:disabled,\n",
       "  .colab-df-quickchart-complete:disabled:hover {\n",
       "    background-color: var(--disabled-bg-color);\n",
       "    fill: var(--disabled-fill-color);\n",
       "    box-shadow: none;\n",
       "  }\n",
       "\n",
       "  .colab-df-spinner {\n",
       "    border: 2px solid var(--fill-color);\n",
       "    border-color: transparent;\n",
       "    border-bottom-color: var(--fill-color);\n",
       "    animation:\n",
       "      spin 1s steps(1) infinite;\n",
       "  }\n",
       "\n",
       "  @keyframes spin {\n",
       "    0% {\n",
       "      border-color: transparent;\n",
       "      border-bottom-color: var(--fill-color);\n",
       "      border-left-color: var(--fill-color);\n",
       "    }\n",
       "    20% {\n",
       "      border-color: transparent;\n",
       "      border-left-color: var(--fill-color);\n",
       "      border-top-color: var(--fill-color);\n",
       "    }\n",
       "    30% {\n",
       "      border-color: transparent;\n",
       "      border-left-color: var(--fill-color);\n",
       "      border-top-color: var(--fill-color);\n",
       "      border-right-color: var(--fill-color);\n",
       "    }\n",
       "    40% {\n",
       "      border-color: transparent;\n",
       "      border-right-color: var(--fill-color);\n",
       "      border-top-color: var(--fill-color);\n",
       "    }\n",
       "    60% {\n",
       "      border-color: transparent;\n",
       "      border-right-color: var(--fill-color);\n",
       "    }\n",
       "    80% {\n",
       "      border-color: transparent;\n",
       "      border-right-color: var(--fill-color);\n",
       "      border-bottom-color: var(--fill-color);\n",
       "    }\n",
       "    90% {\n",
       "      border-color: transparent;\n",
       "      border-bottom-color: var(--fill-color);\n",
       "    }\n",
       "  }\n",
       "</style>\n",
       "\n",
       "  <script>\n",
       "    async function quickchart(key) {\n",
       "      const quickchartButtonEl =\n",
       "        document.querySelector('#' + key + ' button');\n",
       "      quickchartButtonEl.disabled = true;  // To prevent multiple clicks.\n",
       "      quickchartButtonEl.classList.add('colab-df-spinner');\n",
       "      try {\n",
       "        const charts = await google.colab.kernel.invokeFunction(\n",
       "            'suggestCharts', [key], {});\n",
       "      } catch (error) {\n",
       "        console.error('Error during call to suggestCharts:', error);\n",
       "      }\n",
       "      quickchartButtonEl.classList.remove('colab-df-spinner');\n",
       "      quickchartButtonEl.classList.add('colab-df-quickchart-complete');\n",
       "    }\n",
       "    (() => {\n",
       "      let quickchartButtonEl =\n",
       "        document.querySelector('#df-91b353b5-afe2-4b5d-9f4a-f4e4525cd74d button');\n",
       "      quickchartButtonEl.style.display =\n",
       "        google.colab.kernel.accessAllowed ? 'block' : 'none';\n",
       "    })();\n",
       "  </script>\n",
       "</div>\n",
       "    </div>\n",
       "  </div>\n"
      ],
      "text/plain": [
       "                                                   mediaType    eps  duration  \\\n",
       "title                                                                           \n",
       "Fullmetal Alchemist: Brotherhood                          TV   64.0       NaN   \n",
       "your name.                                             Movie    1.0     107.0   \n",
       "A Silent Voice                                         Movie    1.0     130.0   \n",
       "Haikyuu!! Karasuno High School vs Shiratorizawa...        TV   10.0       NaN   \n",
       "Attack on Titan 3rd Season: Part II                       TV   10.0       NaN   \n",
       "Demon Slayer: Kimetsu no Yaiba                            TV   26.0       NaN   \n",
       "Haikyuu!! Second Season                                   TV   25.0       NaN   \n",
       "Hunter x Hunter (2011)                                    TV  148.0       NaN   \n",
       "Gintama Kanketsu-hen: Yorozuya yo Eien Nare            Movie    1.0     111.0   \n",
       "Gintama (2015)                                            TV   51.0       NaN   \n",
       "\n",
       "                                                    ongoing  startYr  \\\n",
       "title                                                                  \n",
       "Fullmetal Alchemist: Brotherhood                      False   2009.0   \n",
       "your name.                                            False   2016.0   \n",
       "A Silent Voice                                        False   2016.0   \n",
       "Haikyuu!! Karasuno High School vs Shiratorizawa...    False   2016.0   \n",
       "Attack on Titan 3rd Season: Part II                   False   2019.0   \n",
       "Demon Slayer: Kimetsu no Yaiba                        False   2019.0   \n",
       "Haikyuu!! Second Season                               False   2015.0   \n",
       "Hunter x Hunter (2011)                                False   2011.0   \n",
       "Gintama Kanketsu-hen: Yorozuya yo Eien Nare           False   2013.0   \n",
       "Gintama (2015)                                        False   2015.0   \n",
       "\n",
       "                                                    finishYr sznOfRelease  \\\n",
       "title                                                                       \n",
       "Fullmetal Alchemist: Brotherhood                      2010.0       Spring   \n",
       "your name.                                            2016.0          NaN   \n",
       "A Silent Voice                                        2016.0          NaN   \n",
       "Haikyuu!! Karasuno High School vs Shiratorizawa...    2016.0         Fall   \n",
       "Attack on Titan 3rd Season: Part II                   2019.0       Spring   \n",
       "Demon Slayer: Kimetsu no Yaiba                        2019.0       Spring   \n",
       "Haikyuu!! Second Season                               2016.0         Fall   \n",
       "Hunter x Hunter (2011)                                2014.0         Fall   \n",
       "Gintama Kanketsu-hen: Yorozuya yo Eien Nare           2013.0          NaN   \n",
       "Gintama (2015)                                        2016.0       Spring   \n",
       "\n",
       "                                                                                          description  \\\n",
       "title                                                                                                   \n",
       "Fullmetal Alchemist: Brotherhood                    The foundation of alchemy is based on the law ...   \n",
       "your name.                                          Mitsuha and Taki are two total strangers livin...   \n",
       "A Silent Voice                                      After transferring into a new school, a deaf g...   \n",
       "Haikyuu!! Karasuno High School vs Shiratorizawa...  Picking up where the second season ended, the ...   \n",
       "Attack on Titan 3rd Season: Part II                 The battle to retake Wall Maria begins now! Wi...   \n",
       "Demon Slayer: Kimetsu no Yaiba                      Bloodthirsty demons lurk in the woods, and nob...   \n",
       "Haikyuu!! Second Season                             After losing to Aoba Johsai at the Inter-High,...   \n",
       "Hunter x Hunter (2011)                              Drawn to the mystique of the unknown, Hunters ...   \n",
       "Gintama Kanketsu-hen: Yorozuya yo Eien Nare         While watching a movie, Gintoki comes upon a \"...   \n",
       "Gintama (2015)                                                              Fourth season of Gintama.   \n",
       "\n",
       "                                                                 studios  \\\n",
       "title                                                                      \n",
       "Fullmetal Alchemist: Brotherhood                               ['Bones']   \n",
       "your name.                                          ['CoMix Wave Films']   \n",
       "A Silent Voice                                       ['Kyoto Animation']   \n",
       "Haikyuu!! Karasuno High School vs Shiratorizawa...    ['Production I.G']   \n",
       "Attack on Titan 3rd Season: Part II                       ['Wit Studio']   \n",
       "Demon Slayer: Kimetsu no Yaiba                              ['ufotable']   \n",
       "Haikyuu!! Second Season                               ['Production I.G']   \n",
       "Hunter x Hunter (2011)                                      ['MADHOUSE']   \n",
       "Gintama Kanketsu-hen: Yorozuya yo Eien Nare                  ['Sunrise']   \n",
       "Gintama (2015)                                           ['BN Pictures']   \n",
       "\n",
       "                                                                                                 tags  \\\n",
       "title                                                                                                   \n",
       "Fullmetal Alchemist: Brotherhood                    ['Action', 'Adventure', 'Drama', 'Fantasy', 'M...   \n",
       "your name.                                          ['Drama', 'Romance', 'Body Swapping', 'Gender ...   \n",
       "A Silent Voice                                      ['Drama', 'Shounen', 'Disability', 'Melancholy...   \n",
       "Haikyuu!! Karasuno High School vs Shiratorizawa...  ['Shounen', 'Sports', 'Animeism', 'School Club...   \n",
       "Attack on Titan 3rd Season: Part II                 ['Action', 'Fantasy', 'Horror', 'Shounen', 'Da...   \n",
       "Demon Slayer: Kimetsu no Yaiba                      ['Action', 'Adventure', 'Comedy', 'Drama', 'Fa...   \n",
       "Haikyuu!! Second Season                             ['Shounen', 'Sports', 'School Club', 'School L...   \n",
       "Hunter x Hunter (2011)                              ['Action', 'Adventure', 'Drama', 'Fantasy', 'S...   \n",
       "Gintama Kanketsu-hen: Yorozuya yo Eien Nare         ['Action', 'Comedy', 'Drama', 'Sci Fi', 'Shoun...   \n",
       "Gintama (2015)                                      ['Action', 'Comedy', 'Drama', 'Sci Fi', 'Shoun...   \n",
       "\n",
       "                                                                                          contentWarn  \\\n",
       "title                                                                                                   \n",
       "Fullmetal Alchemist: Brotherhood                    ['Animal Abuse', 'Mature Themes', 'Violence', ...   \n",
       "your name.                                                                                         []   \n",
       "A Silent Voice                                               ['Bullying', 'Mature Themes', 'Suicide']   \n",
       "Haikyuu!! Karasuno High School vs Shiratorizawa...                                                 []   \n",
       "Attack on Titan 3rd Season: Part II                              ['Cannibalism', 'Explicit Violence']   \n",
       "Demon Slayer: Kimetsu no Yaiba                                                           ['Violence']   \n",
       "Haikyuu!! Second Season                                                                            []   \n",
       "Hunter x Hunter (2011)                                                                   ['Violence']   \n",
       "Gintama Kanketsu-hen: Yorozuya yo Eien Nare                                                        []   \n",
       "Gintama (2015)                                                                                     []   \n",
       "\n",
       "                                                     watched  watching  \\\n",
       "title                                                                    \n",
       "Fullmetal Alchemist: Brotherhood                    103707.0     14351   \n",
       "your name.                                           58831.0      1453   \n",
       "A Silent Voice                                       45892.0       946   \n",
       "Haikyuu!! Karasuno High School vs Shiratorizawa...   25134.0      2183   \n",
       "Attack on Titan 3rd Season: Part II                  21308.0      3217   \n",
       "Demon Slayer: Kimetsu no Yaiba                       28708.0     10844   \n",
       "Haikyuu!! Second Season                              31329.0      3861   \n",
       "Hunter x Hunter (2011)                               50195.0     17730   \n",
       "Gintama Kanketsu-hen: Yorozuya yo Eien Nare           8454.0       280   \n",
       "Gintama (2015)                                        7862.0      3154   \n",
       "\n",
       "                                                    wantWatch  dropped  \\\n",
       "title                                                                    \n",
       "Fullmetal Alchemist: Brotherhood                        25810     2656   \n",
       "your name.                                              21733      124   \n",
       "A Silent Voice                                          17148      132   \n",
       "Haikyuu!! Karasuno High School vs Shiratorizawa...       8082      167   \n",
       "Attack on Titan 3rd Season: Part II                      7864      174   \n",
       "Demon Slayer: Kimetsu no Yaiba                          13156      600   \n",
       "Haikyuu!! Second Season                                  8664      264   \n",
       "Hunter x Hunter (2011)                                  19219     2132   \n",
       "Gintama Kanketsu-hen: Yorozuya yo Eien Nare              6624      150   \n",
       "Gintama (2015)                                          10565      647   \n",
       "\n",
       "                                                    rating    votes  \n",
       "title                                                                \n",
       "Fullmetal Alchemist: Brotherhood                     4.702  86547.0  \n",
       "your name.                                           4.663  43960.0  \n",
       "A Silent Voice                                       4.661  33752.0  \n",
       "Haikyuu!! Karasuno High School vs Shiratorizawa...   4.660  17422.0  \n",
       "Attack on Titan 3rd Season: Part II                  4.650  15789.0  \n",
       "Demon Slayer: Kimetsu no Yaiba                       4.647  24765.0  \n",
       "Haikyuu!! Second Season                              4.639  22819.0  \n",
       "Hunter x Hunter (2011)                               4.635  46853.0  \n",
       "Gintama Kanketsu-hen: Yorozuya yo Eien Nare          4.625   6254.0  \n",
       "Gintama (2015)                                       4.622   7654.0  "
      ]
     },
     "execution_count": 3,
     "metadata": {},
     "output_type": "execute_result"
    }
   ],
   "source": [
    "#Primero observo los datos para tener una vision general de como estan conformados\n",
    "datos.head(10)"
   ]
  },
  {
   "cell_type": "markdown",
   "metadata": {
    "id": "Pj-Nn9SyoNwD"
   },
   "source": [
    "**Entender la distribución de los datos con gráficos**\n",
    "\n",
    "Se procederá a graficar algunos de los datos para entender cómo se encuentran distribuidos.\n"
   ]
  },
  {
   "cell_type": "code",
   "execution_count": 4,
   "metadata": {
    "colab": {
     "base_uri": "https://localhost:8080/",
     "height": 529
    },
    "executionInfo": {
     "elapsed": 1754,
     "status": "ok",
     "timestamp": 1697300263142,
     "user": {
      "displayName": "Tomás",
      "userId": "06061372257499144673"
     },
     "user_tz": 180
    },
    "id": "wblA3BTBAnji",
    "outputId": "f88a0fb1-4d54-48eb-dd45-1ebbfbdc4d1b"
   },
   "outputs": [
    {
     "data": {
      "image/png": "[encoded data removed]",
      "text/plain": [
       "<Figure size 500x500 with 1 Axes>"
      ]
     },
     "metadata": {},
     "output_type": "display_data"
    }
   ],
   "source": [
    "sns.displot(datos[\"startYr\"])\n",
    "plt.title(\"Distribución de las series por año\")\n",
    "plt.xlabel(\"startYr(Años)\")\n",
    "plt.ylabel(\"Número de series\")\n",
    "plt.show()"
   ]
  },
  {
   "cell_type": "markdown",
   "metadata": {
    "id": "iPBXp1zwzIbA"
   },
   "source": [
    "Este gráfico muestra cómo se distribuyen las series según el año en el que salieron en emisión y se puede ver cómo la mayoría se concentra en los años más recientes.\n",
    "\n",
    "Cabe destacar que el año 2020 tiene un valor más bajo, lo cual es explicable por el hecho de que la fuente de datos fue extraída a mitad de 2020."
   ]
  },
  {
   "cell_type": "code",
   "execution_count": 5,
   "metadata": {
    "colab": {
     "base_uri": "https://localhost:8080/",
     "height": 488
    },
    "executionInfo": {
     "elapsed": 444,
     "status": "ok",
     "timestamp": 1697300263577,
     "user": {
      "displayName": "Tomás",
      "userId": "06061372257499144673"
     },
     "user_tz": 180
    },
    "id": "sOquEvpZ3Z3V",
    "outputId": "3655d41a-dc27-4244-e12b-d276131aa699"
   },
   "outputs": [
    {
     "data": {
      "image/png": "[encoded data removed]",
      "text/plain": [
       "<Figure size 800x500 with 1 Axes>"
      ]
     },
     "metadata": {},
     "output_type": "display_data"
    }
   ],
   "source": [
    "bins=[10,20,30,40,50,60,70,80,90,100,110,120,130,140,150,160,170,180,190,200,210,220,230,240]\n",
    "plt.figure(figsize=(8, 5))\n",
    "plt.hist(datos.eps,bins=bins)\n",
    "plt.title(\"Distribución de los episodios\")\n",
    "plt.xlabel(\"eps(Episodios)\")\n",
    "plt.ylabel(\"Número de series\")\n",
    "plt.show()"
   ]
  },
  {
   "cell_type": "markdown",
   "metadata": {
    "id": "PjvgIAGPzsMp"
   },
   "source": [
    "Este gráfico muestra cómo se distribuye el número de episodios en las series y se observa cómo estos tienden a concentrarse a la izquierda."
   ]
  },
  {
   "cell_type": "code",
   "execution_count": 6,
   "metadata": {
    "colab": {
     "base_uri": "https://localhost:8080/",
     "height": 488
    },
    "executionInfo": {
     "elapsed": 685,
     "status": "ok",
     "timestamp": 1697300264248,
     "user": {
      "displayName": "Tomás",
      "userId": "06061372257499144673"
     },
     "user_tz": 180
    },
    "id": "oAfkTuKFt6sD",
    "outputId": "a81c2f05-be70-4418-80c6-7c1e7e74deeb"
   },
   "outputs": [
    {
     "data": {
      "image/png": "[encoded data removed]",
      "text/plain": [
       "<Figure size 800x500 with 1 Axes>"
      ]
     },
     "metadata": {},
     "output_type": "display_data"
    }
   ],
   "source": [
    "plt.figure(figsize=(8, 5))\n",
    "mediaType = datos[\"mediaType\"].astype(str)\n",
    "plt.bar(mediaType.unique(), mediaType.value_counts())\n",
    "plt.title(\"Distribución de tipos de medio\")\n",
    "plt.xlabel(\"mediaType(Tipo de medio)\")\n",
    "plt.ylabel(\"Número de series\")\n",
    "plt.show()"
   ]
  },
  {
   "cell_type": "markdown",
   "metadata": {
    "id": "Y5wPdDw1z8Hw"
   },
   "source": [
    "Aquí se muestra la distribución de los tipos de medio, observándose que el medio más común es el TV y el menos común es Music Video.\n",
    "\n",
    "Cabe destacar que hay valores NaN."
   ]
  },
  {
   "cell_type": "code",
   "execution_count": 7,
   "metadata": {
    "colab": {
     "base_uri": "https://localhost:8080/",
     "height": 488
    },
    "executionInfo": {
     "elapsed": 46,
     "status": "ok",
     "timestamp": 1697300264249,
     "user": {
      "displayName": "Tomás",
      "userId": "06061372257499144673"
     },
     "user_tz": 180
    },
    "id": "l77V9cfkszRc",
    "outputId": "b47738c5-c6b9-4908-d04b-3ffdd2f13af0"
   },
   "outputs": [
    {
     "data": {
      "image/png": "[encoded data removed]",
      "text/plain": [
       "<Figure size 800x500 with 1 Axes>"
      ]
     },
     "metadata": {},
     "output_type": "display_data"
    }
   ],
   "source": [
    "plt.figure(figsize=(8, 5))\n",
    "szn_of_release = datos[\"sznOfRelease\"].astype(str)\n",
    "plt.bar(szn_of_release.unique(), szn_of_release.value_counts())\n",
    "plt.title(\"Distribución por estacion\")\n",
    "plt.xlabel(\"sznOfRelease(Estacion)\")\n",
    "plt.ylabel(\"Número de series\")\n",
    "plt.show()"
   ]
  },
  {
   "cell_type": "markdown",
   "metadata": {
    "id": "76bJykYH0CUF"
   },
   "source": [
    "Aquí se muestra la distribución según la estación en que fue emitida la serie y se puede ver cómo la mayor parte se concentra en la primavera (Spring).\n",
    "\n",
    "Cabe destacar que hay valores NaN."
   ]
  },
  {
   "cell_type": "code",
   "execution_count": 8,
   "metadata": {
    "colab": {
     "base_uri": "https://localhost:8080/",
     "height": 548
    },
    "executionInfo": {
     "elapsed": 349,
     "status": "ok",
     "timestamp": 1697300264556,
     "user": {
      "displayName": "Tomás",
      "userId": "06061372257499144673"
     },
     "user_tz": 180
    },
    "id": "aX3A1MeusXW0",
    "outputId": "66074bf2-c6b8-4aa4-9ccd-ca1cd95de54f"
   },
   "outputs": [
    {
     "data": {
      "text/plain": [
       "([<matplotlib.patches.Wedge at 0x7e5a04c76170>,\n",
       "  <matplotlib.patches.Wedge at 0x7e5a04c37880>],\n",
       " [Text(1.0987523554460605, 0.05237615298715627, 'True(En Emision)'),\n",
       "  Text(-1.0987523511552237, -0.052376243000698285, 'False(lNo en emision)')],\n",
       " [Text(0.599319466606942, 0.02856881072026705, '1.5%'),\n",
       "  Text(-0.5993194642664855, -0.0285688598185627, '98.5%')])"
      ]
     },
     "execution_count": 8,
     "metadata": {},
     "output_type": "execute_result"
    },
    {
     "data": {
      "image/png": "[encoded data removed]",
      "text/plain": [
       "<Figure size 800x500 with 1 Axes>"
      ]
     },
     "metadata": {},
     "output_type": "display_data"
    }
   ],
   "source": [
    "ongoing1 = datos.loc[datos[\"ongoing\"]==True].count()[0]\n",
    "ongoing2 = datos.loc[datos[\"ongoing\"]==False].count()[0]\n",
    "\n",
    "plt.figure(figsize=(8,5))\n",
    "plt.title(\"Series en emision y no en emision\")\n",
    "labels=[\"True(En Emision)\",\"False(lNo en emision)\"]\n",
    "plt.pie([ongoing1,ongoing2],labels=labels, autopct='%1.1f%%')"
   ]
  },
  {
   "cell_type": "markdown",
   "metadata": {
    "id": "KVsYJmdX0OyY"
   },
   "source": [
    "En este gráfico se comparan las series en emisión y las que no están en emisión, y se puede observar cómo las series en emisión son muy pocas en comparación con las que no están en emisión."
   ]
  },
  {
   "cell_type": "code",
   "execution_count": 9,
   "metadata": {
    "colab": {
     "base_uri": "https://localhost:8080/",
     "height": 526
    },
    "executionInfo": {
     "elapsed": 1738,
     "status": "ok",
     "timestamp": 1697300266288,
     "user": {
      "displayName": "Tomás",
      "userId": "06061372257499144673"
     },
     "user_tz": 180
    },
    "id": "7AVbTMMYtkkK",
    "outputId": "439d8589-0c7c-438e-c6e7-931d6a4dd7b9"
   },
   "outputs": [
    {
     "data": {
      "image/png": "[encoded data removed]",
      "text/plain": [
       "<Figure size 500x500 with 1 Axes>"
      ]
     },
     "metadata": {},
     "output_type": "display_data"
    }
   ],
   "source": [
    "sns.displot(datos[\"watched\"]+datos[\"watching\"]+datos[\"wantWatch\"]+datos[\"dropped\"])\n",
    "plt.xlabel(\"Agregado a lista\")\n",
    "plt.ylabel(\"Número de series\")\n",
    "plt.show()"
   ]
  },
  {
   "cell_type": "markdown",
   "metadata": {
    "id": "Ru13tNAi0dtJ"
   },
   "source": [
    "En el siguiente gráfico se muestra cómo se distribuyen las series según los usuarios que las tienen agregadas a su lista.\n",
    "\n",
    "Se puede ver que existen algunas series que poseen una enorme cantidad de usuarios, mientras que la mayoría se concentra en los valores más bajos."
   ]
  },
  {
   "cell_type": "code",
   "execution_count": 10,
   "metadata": {
    "colab": {
     "base_uri": "https://localhost:8080/",
     "height": 529
    },
    "executionInfo": {
     "elapsed": 466,
     "status": "ok",
     "timestamp": 1697300266744,
     "user": {
      "displayName": "Tomás",
      "userId": "06061372257499144673"
     },
     "user_tz": 180
    },
    "id": "-ggZ10EeKeU4",
    "outputId": "3e4311b4-b9e1-439f-e947-9fa919b941bc"
   },
   "outputs": [
    {
     "data": {
      "image/png": "[encoded data removed]",
      "text/plain": [
       "<Figure size 500x500 with 1 Axes>"
      ]
     },
     "metadata": {},
     "output_type": "display_data"
    }
   ],
   "source": [
    "sns.displot(datos[\"rating\"])\n",
    "plt.title(\"Distribución de los puntajes\")\n",
    "plt.xlabel(\"rating(Puntaje)\")\n",
    "plt.ylabel(\"Número de series\")\n",
    "plt.show()"
   ]
  },
  {
   "cell_type": "markdown",
   "metadata": {
    "id": "un3VL4gb0sfB"
   },
   "source": [
    "Aquí se muestra cómo se distribuyen los puntajes de las series."
   ]
  },
  {
   "cell_type": "code",
   "execution_count": 11,
   "metadata": {
    "colab": {
     "base_uri": "https://localhost:8080/",
     "height": 704
    },
    "executionInfo": {
     "elapsed": 59,
     "status": "ok",
     "timestamp": 1697300266745,
     "user": {
      "displayName": "Tomás",
      "userId": "06061372257499144673"
     },
     "user_tz": 180
    },
    "id": "9ZvnJvWoJug1",
    "outputId": "e6cb970e-9210-4c8a-dd1e-7144cf0f77ca"
   },
   "outputs": [
    {
     "data": {
      "text/plain": [
       "([<matplotlib.patches.Wedge at 0x7e5a04445c90>,\n",
       "  <matplotlib.patches.Wedge at 0x7e5a04445ba0>,\n",
       "  <matplotlib.patches.Wedge at 0x7e5a04444bb0>,\n",
       "  <matplotlib.patches.Wedge at 0x7e5a04446ef0>,\n",
       "  <matplotlib.patches.Wedge at 0x7e5a04447580>],\n",
       " [Text(1.0932476651075307, 0.12169446469306823, '1 Estrellas'),\n",
       "  Text(0.48460804913062494, 0.9874993866923716, '2 Estrellas'),\n",
       "  Text(-1.0965207018753498, -0.08742053739705914, '3 Estrellas'),\n",
       "  Text(0.6403269981151986, -0.8944167571578581, '4 Estrellas'),\n",
       "  Text(1.0996479221959294, -0.02782889164474995, '5 Estrellas')],\n",
       " [Text(0.5963169082404712, 0.06637879892349176, '3.5%'),\n",
       "  Text(0.264331663162159, 0.5386360291049299, '28.4%'),\n",
       "  Text(-0.598102201022918, -0.04768392948930498, '38.6%'),\n",
       "  Text(0.34926927169919914, -0.48786368572246797, '28.6%'),\n",
       "  Text(0.599807957561416, -0.015179395442590879, '0.8%')])"
      ]
     },
     "execution_count": 11,
     "metadata": {},
     "output_type": "execute_result"
    },
    {
     "data": {
      "image/png": "[encoded data removed]",
      "text/plain": [
       "<Figure size 800x500 with 1 Axes>"
      ]
     },
     "metadata": {},
     "output_type": "display_data"
    }
   ],
   "source": [
    "rating1 = datos.loc[datos[\"rating\"].round()==1].count()[0]\n",
    "rating2 = datos.loc[datos[\"rating\"].round()==2].count()[0]\n",
    "rating3 = datos.loc[datos[\"rating\"].round()==3].count()[0]\n",
    "rating4 = datos.loc[datos[\"rating\"].round()==4].count()[0]\n",
    "rating5 = datos.loc[datos[\"rating\"].round()==5].count()[0]\n",
    "\n",
    "plt.figure(figsize=(8,5))\n",
    "plt.title(\"Puntajes de las series\")\n",
    "labels=[\"1 Estrellas\",\"2 Estrellas\",\"3 Estrellas\",\"4 Estrellas\",\"5 Estrellas\"]\n",
    "plt.pie([rating1,rating2,rating3,rating4,rating5],labels=labels, autopct='%1.1f%%')"
   ]
  },
  {
   "cell_type": "markdown",
   "metadata": {
    "id": "Lr07h9eq1EOA"
   },
   "source": [
    "En este gráfico se ve cómo se comparan los puntajes tomando su valor redondeado con valores de 1 a 5, y se ve cómo el valor más alto y el más bajo son los menos comunes."
   ]
  },
  {
   "cell_type": "markdown",
   "metadata": {
    "id": "j4267Ortzw1q"
   },
   "source": [
    "#Preparación y Limpieza de los Datos"
   ]
  },
  {
   "cell_type": "markdown",
   "metadata": {
    "id": "CFUNAQtjrn8m"
   },
   "source": [
    "Columna Ongoing"
   ]
  },
  {
   "cell_type": "code",
   "execution_count": 12,
   "metadata": {
    "colab": {
     "base_uri": "https://localhost:8080/"
    },
    "executionInfo": {
     "elapsed": 54,
     "status": "ok",
     "timestamp": 1697300266746,
     "user": {
      "displayName": "Tomás",
      "userId": "06061372257499144673"
     },
     "user_tz": 180
    },
    "id": "rC9N4dGUrqpX",
    "outputId": "82b14aa8-638f-4887-f6ad-19cb84d07d77"
   },
   "outputs": [
    {
     "data": {
      "text/plain": [
       "array([False,  True])"
      ]
     },
     "execution_count": 12,
     "metadata": {},
     "output_type": "execute_result"
    }
   ],
   "source": [
    "#Me aseguro que todos los valores de la columna Ongoing corresponde a True o False para lo cual veo sus valores unicos\n",
    "datos[\"ongoing\"].unique()"
   ]
  },
  {
   "cell_type": "markdown",
   "metadata": {
    "id": "nOMbZUJ8iGgF"
   },
   "source": [
    "Columna startYr"
   ]
  },
  {
   "cell_type": "code",
   "execution_count": 13,
   "metadata": {
    "colab": {
     "base_uri": "https://localhost:8080/"
    },
    "executionInfo": {
     "elapsed": 52,
     "status": "ok",
     "timestamp": 1697300266747,
     "user": {
      "displayName": "Tomás",
      "userId": "06061372257499144673"
     },
     "user_tz": 180
    },
    "id": "Ej0-AFFliKjr",
    "outputId": "1fcef41a-df6f-4931-9bb7-3a167f7eeb84"
   },
   "outputs": [
    {
     "name": "stdout",
     "output_type": "stream",
     "text": [
      "Cantidad de valores numericos: 14356\n",
      "Cantidad de valores NaN: 222\n",
      "Porcentaje de valores numericos 98.47715736040608\n"
     ]
    }
   ],
   "source": [
    "#Veo la cantidad de valores numericos y no numericos y su proporcion para confirmar que todos sean numericos y ver que no hayan errores\n",
    "cantidadNan =  datos.startYr.isna().sum()\n",
    "cantidadNumero = datos.startYr.count()\n",
    "\n",
    "print(\"Cantidad de valores numericos:\",cantidadNumero)\n",
    "print(\"Cantidad de valores NaN:\",cantidadNan)\n",
    "print(\"Porcentaje de valores numericos\",cantidadNumero/datos.shape[0]*100)"
   ]
  },
  {
   "cell_type": "code",
   "execution_count": 14,
   "metadata": {
    "colab": {
     "base_uri": "https://localhost:8080/"
    },
    "executionInfo": {
     "elapsed": 49,
     "status": "ok",
     "timestamp": 1697300266747,
     "user": {
      "displayName": "Tomás",
      "userId": "06061372257499144673"
     },
     "user_tz": 180
    },
    "id": "6F9GRDs9Du0d",
    "outputId": "02e14432-e9f9-4565-9103-c02a2d452c25"
   },
   "outputs": [
    {
     "data": {
      "text/plain": [
       "2005.4577876845917"
      ]
     },
     "execution_count": 14,
     "metadata": {},
     "output_type": "execute_result"
    }
   ],
   "source": [
    "#Veo cual es el promedio de los datos para decidir si utilizarlo como reemplazo para los valores NaN\n",
    "datos.startYr.mean()"
   ]
  },
  {
   "cell_type": "code",
   "execution_count": 15,
   "metadata": {
    "executionInfo": {
     "elapsed": 48,
     "status": "ok",
     "timestamp": 1697300266748,
     "user": {
      "displayName": "Tomás",
      "userId": "06061372257499144673"
     },
     "user_tz": 180
    },
    "id": "iApscfopiboE"
   },
   "outputs": [],
   "source": [
    "#Toma la decision de llenar los valores NaN con el valor del promedio\n",
    "datos.startYr = datos.startYr.fillna(datos.startYr.mean())"
   ]
  },
  {
   "cell_type": "code",
   "execution_count": 16,
   "metadata": {
    "executionInfo": {
     "elapsed": 48,
     "status": "ok",
     "timestamp": 1697300266749,
     "user": {
      "displayName": "Tomás",
      "userId": "06061372257499144673"
     },
     "user_tz": 180
    },
    "id": "CIHw5ndoinU5"
   },
   "outputs": [],
   "source": [
    "#convierto todos los valores a entero para mantener todos los datos en el tipo que le corresponde\n",
    "datos[\"startYr\"] = datos[\"startYr\"].astype(int)"
   ]
  },
  {
   "cell_type": "markdown",
   "metadata": {
    "id": "MOQlJqOTFVXH"
   },
   "source": [
    "Columna eps"
   ]
  },
  {
   "cell_type": "code",
   "execution_count": 17,
   "metadata": {
    "colab": {
     "base_uri": "https://localhost:8080/"
    },
    "executionInfo": {
     "elapsed": 50,
     "status": "ok",
     "timestamp": 1697300266752,
     "user": {
      "displayName": "Tomás",
      "userId": "06061372257499144673"
     },
     "user_tz": 180
    },
    "id": "JMufNmvAAo_Q",
    "outputId": "fdb087d0-06f8-469b-8319-0ef891a71537"
   },
   "outputs": [
    {
     "name": "stdout",
     "output_type": "stream",
     "text": [
      "Cantidad de valores numericos: 14219\n",
      "Cantidad de valores NaN: 359\n",
      "Porcentaje de valores numericos 97.53738510083689\n"
     ]
    }
   ],
   "source": [
    "#Veo la cantidad de valores numericos y no numericos y su proporcion para confirmar que todos sean numericos y ver que no hayan errores\n",
    "cantidadNan =  datos.eps.isna().sum()\n",
    "cantidadNumero = datos.eps.count()\n",
    "\n",
    "print(\"Cantidad de valores numericos:\",cantidadNumero)\n",
    "print(\"Cantidad de valores NaN:\",cantidadNan)\n",
    "print(\"Porcentaje de valores numericos\",cantidadNumero/datos.shape[0]*100)"
   ]
  },
  {
   "cell_type": "code",
   "execution_count": 18,
   "metadata": {
    "colab": {
     "base_uri": "https://localhost:8080/"
    },
    "executionInfo": {
     "elapsed": 49,
     "status": "ok",
     "timestamp": 1697300266753,
     "user": {
      "displayName": "Tomás",
      "userId": "06061372257499144673"
     },
     "user_tz": 180
    },
    "id": "oqtVJ0kOFld1",
    "outputId": "579328a7-f273-4e91-ee7d-32f8cbc6dc42"
   },
   "outputs": [
    {
     "data": {
      "text/plain": [
       "13.50123074759125"
      ]
     },
     "execution_count": 18,
     "metadata": {},
     "output_type": "execute_result"
    }
   ],
   "source": [
    "#Veo cual es el promedio de los datos para decidir si utilizarlo como reemplazo para los valores NaN\n",
    "datos.eps.mean()"
   ]
  },
  {
   "cell_type": "code",
   "execution_count": 19,
   "metadata": {
    "executionInfo": {
     "elapsed": 45,
     "status": "ok",
     "timestamp": 1697300266754,
     "user": {
      "displayName": "Tomás",
      "userId": "06061372257499144673"
     },
     "user_tz": 180
    },
    "id": "6QHozw2YJ-Mb"
   },
   "outputs": [],
   "source": [
    "#Toma la decision de llenar los valores NaN con el valor del promedio\n",
    "datos.eps = datos.eps.fillna(datos.eps.mean())\n"
   ]
  },
  {
   "cell_type": "code",
   "execution_count": 20,
   "metadata": {
    "executionInfo": {
     "elapsed": 46,
     "status": "ok",
     "timestamp": 1697300266755,
     "user": {
      "displayName": "Tomás",
      "userId": "06061372257499144673"
     },
     "user_tz": 180
    },
    "id": "oW2WhfMOMQfU"
   },
   "outputs": [],
   "source": [
    "#convierto todos los valores a entero para mantener todos los datos en el tipo que le corresponde\n",
    "datos[\"eps\"] = datos[\"eps\"].astype(int)"
   ]
  },
  {
   "cell_type": "markdown",
   "metadata": {
    "id": "4HRSezkCQM46"
   },
   "source": [
    "Columna watched"
   ]
  },
  {
   "cell_type": "code",
   "execution_count": 21,
   "metadata": {
    "colab": {
     "base_uri": "https://localhost:8080/"
    },
    "executionInfo": {
     "elapsed": 45,
     "status": "ok",
     "timestamp": 1697300266755,
     "user": {
      "displayName": "Tomás",
      "userId": "06061372257499144673"
     },
     "user_tz": 180
    },
    "id": "wfIqZuaATB5e",
    "outputId": "c138f36e-eabe-4a6b-90f4-8f517c7d1dee"
   },
   "outputs": [
    {
     "name": "stdout",
     "output_type": "stream",
     "text": [
      "Cantidad de valores numericos: 14356\n",
      "Cantidad de valores NaN: 222\n",
      "Porcentaje de valores numericos 98.47715736040608\n"
     ]
    }
   ],
   "source": [
    "#Veo la cantidad de valores numericos y no numericos y su proporcion para confirmar que todos sean numericos y ver que no hayan errores\n",
    "cantidadNan =  datos.watched.isna().sum()\n",
    "cantidadNumero = datos.watched.count()\n",
    "\n",
    "print(\"Cantidad de valores numericos:\",cantidadNumero)\n",
    "print(\"Cantidad de valores NaN:\",cantidadNan)\n",
    "print(\"Porcentaje de valores numericos\",cantidadNumero/datos.shape[0]*100)"
   ]
  },
  {
   "cell_type": "code",
   "execution_count": 22,
   "metadata": {
    "colab": {
     "base_uri": "https://localhost:8080/"
    },
    "executionInfo": {
     "elapsed": 43,
     "status": "ok",
     "timestamp": 1697300266756,
     "user": {
      "displayName": "Tomás",
      "userId": "06061372257499144673"
     },
     "user_tz": 180
    },
    "id": "Dse1qbGrGSK5",
    "outputId": "74dcad3f-a284-4000-a1d8-6c85cc33819e"
   },
   "outputs": [
    {
     "data": {
      "text/plain": [
       "2408.0433964892727"
      ]
     },
     "execution_count": 22,
     "metadata": {},
     "output_type": "execute_result"
    }
   ],
   "source": [
    "#Veo cual es el promedio de los datos para decidir si utilizarlo como reemplazo para los valores NaN\n",
    "datos.watched.mean()"
   ]
  },
  {
   "cell_type": "code",
   "execution_count": 23,
   "metadata": {
    "executionInfo": {
     "elapsed": 41,
     "status": "ok",
     "timestamp": 1697300266756,
     "user": {
      "displayName": "Tomás",
      "userId": "06061372257499144673"
     },
     "user_tz": 180
    },
    "id": "uEHevjG5TbvY"
   },
   "outputs": [],
   "source": [
    "#Toma la decision de llenar los valores NaN con el valor del promedio\n",
    "\n",
    "datos.watched = datos.watched.fillna(datos.watched.mean())"
   ]
  },
  {
   "cell_type": "code",
   "execution_count": 24,
   "metadata": {
    "executionInfo": {
     "elapsed": 43,
     "status": "ok",
     "timestamp": 1697300266759,
     "user": {
      "displayName": "Tomás",
      "userId": "06061372257499144673"
     },
     "user_tz": 180
    },
    "id": "8MopL6mzTLE1"
   },
   "outputs": [],
   "source": [
    "#convierto todos los valores a entero para mantener todos los datos en el tipo que le corresponde\n",
    "datos[\"watched\"] = datos[\"watched\"].astype(int)"
   ]
  },
  {
   "cell_type": "markdown",
   "metadata": {
    "id": "fqph0N95SZb8"
   },
   "source": [
    "Columna wantWatch"
   ]
  },
  {
   "cell_type": "code",
   "execution_count": 25,
   "metadata": {
    "colab": {
     "base_uri": "https://localhost:8080/"
    },
    "executionInfo": {
     "elapsed": 429,
     "status": "ok",
     "timestamp": 1697300267146,
     "user": {
      "displayName": "Tomás",
      "userId": "06061372257499144673"
     },
     "user_tz": 180
    },
    "id": "5FScFcBBUEwn",
    "outputId": "90a00469-e923-4448-eadf-3c766e189354"
   },
   "outputs": [
    {
     "name": "stdout",
     "output_type": "stream",
     "text": [
      "Cantidad de valores numericos: 14578\n",
      "Cantidad de valores NaN: 0\n",
      "Porcentaje de valores numericos 100.0\n"
     ]
    }
   ],
   "source": [
    "#Veo la cantidad de valores numericos y no numericos y su proporcion para confirmar que todos sean numericos y ver que no hayan errores\n",
    "cantidadNan =  datos.wantWatch.isna().sum()\n",
    "cantidadNumero = datos.wantWatch.count()\n",
    "\n",
    "print(\"Cantidad de valores numericos:\",cantidadNumero)\n",
    "print(\"Cantidad de valores NaN:\",cantidadNan)\n",
    "print(\"Porcentaje de valores numericos\",cantidadNumero/datos.shape[0]*100)"
   ]
  },
  {
   "cell_type": "markdown",
   "metadata": {
    "id": "35Xa2RSySZTH"
   },
   "source": [
    "Columna dropped"
   ]
  },
  {
   "cell_type": "code",
   "execution_count": 26,
   "metadata": {
    "colab": {
     "base_uri": "https://localhost:8080/"
    },
    "executionInfo": {
     "elapsed": 53,
     "status": "ok",
     "timestamp": 1697300267147,
     "user": {
      "displayName": "Tomás",
      "userId": "06061372257499144673"
     },
     "user_tz": 180
    },
    "id": "bxG9Fn7gUOtZ",
    "outputId": "ca9cb65a-f071-4045-dcec-3a1751bab601"
   },
   "outputs": [
    {
     "name": "stdout",
     "output_type": "stream",
     "text": [
      "Cantidad de valores numericos: 14578\n",
      "Cantidad de valores NaN: 0\n",
      "Porcentaje de valores numericos 100.0\n"
     ]
    }
   ],
   "source": [
    "#Veo la cantidad de valores numericos y no numericos y su proporcion para confirmar que todos sean numericos y ver que no hayan errores\n",
    "cantidadNan =  datos.dropped.isna().sum()\n",
    "cantidadNumero = datos.dropped.count()\n",
    "\n",
    "print(\"Cantidad de valores numericos:\",cantidadNumero)\n",
    "print(\"Cantidad de valores NaN:\",cantidadNan)\n",
    "print(\"Porcentaje de valores numericos\",cantidadNumero/datos.shape[0]*100)"
   ]
  },
  {
   "cell_type": "markdown",
   "metadata": {
    "id": "LT4QDbyFSW1a"
   },
   "source": [
    "columna rating"
   ]
  },
  {
   "cell_type": "code",
   "execution_count": 27,
   "metadata": {
    "colab": {
     "base_uri": "https://localhost:8080/"
    },
    "executionInfo": {
     "elapsed": 51,
     "status": "ok",
     "timestamp": 1697300267148,
     "user": {
      "displayName": "Tomás",
      "userId": "06061372257499144673"
     },
     "user_tz": 180
    },
    "id": "7ocyWPjFUYQk",
    "outputId": "a90b1184-a5f4-4e89-94cc-6752776b3e66"
   },
   "outputs": [
    {
     "name": "stdout",
     "output_type": "stream",
     "text": [
      "Cantidad de valores numericos: 12107\n",
      "Cantidad de valores NaN: 2471\n",
      "Porcentaje de valores numericos 83.04980107010563\n"
     ]
    }
   ],
   "source": [
    "#Veo la cantidad de valores numericos y no numericos y su proporcion para confirmar que todos sean numericos y ver que no hayan errores\n",
    "cantidadNan =  datos.rating.isna().sum()\n",
    "cantidadNumero = datos.rating.count()\n",
    "\n",
    "print(\"Cantidad de valores numericos:\",cantidadNumero)\n",
    "print(\"Cantidad de valores NaN:\",cantidadNan)\n",
    "print(\"Porcentaje de valores numericos\",cantidadNumero/datos.shape[0]*100)"
   ]
  },
  {
   "cell_type": "code",
   "execution_count": 28,
   "metadata": {
    "colab": {
     "base_uri": "https://localhost:8080/"
    },
    "executionInfo": {
     "elapsed": 48,
     "status": "ok",
     "timestamp": 1697300267148,
     "user": {
      "displayName": "Tomás",
      "userId": "06061372257499144673"
     },
     "user_tz": 180
    },
    "id": "oA-j79IoPURl",
    "outputId": "d8350fde-d9fa-4a5e-ef5a-46dc18f96154"
   },
   "outputs": [
    {
     "name": "stdout",
     "output_type": "stream",
     "text": [
      "Datos originales\n",
      " count    12107.000000\n",
      "mean         2.948697\n",
      "std          0.827642\n",
      "min          0.844000\n",
      "25%          2.303500\n",
      "50%          2.965000\n",
      "75%          3.615500\n",
      "max          4.702000\n",
      "Name: rating, dtype: float64\n",
      "Datos nuevos\n",
      " count    14578.000000\n",
      "mean         2.948697\n",
      "std          0.754238\n",
      "min          0.844000\n",
      "25%          2.451000\n",
      "50%          2.948697\n",
      "75%          3.479000\n",
      "max          4.702000\n",
      "Name: rating, dtype: float64\n"
     ]
    }
   ],
   "source": [
    "#Dado que una importante cantidad de datos de esta columna tienen valores NaN decido ver como cambian los resultados si los NaN se reemplazan por el promedio o la mediana\n",
    "\n",
    "#Veo como cambia al reemplazar por el promedio\n",
    "datosCopia = datos.copy()\n",
    "datosCopia.rating = datosCopia.rating.fillna(datosCopia.rating.mean())\n",
    "print(\"Datos originales\\n\",datos.rating.describe())\n",
    "print(\"Datos nuevos\\n\",datosCopia.rating.describe())\n"
   ]
  },
  {
   "cell_type": "code",
   "execution_count": 29,
   "metadata": {
    "colab": {
     "base_uri": "https://localhost:8080/"
    },
    "executionInfo": {
     "elapsed": 46,
     "status": "ok",
     "timestamp": 1697300267149,
     "user": {
      "displayName": "Tomás",
      "userId": "06061372257499144673"
     },
     "user_tz": 180
    },
    "id": "7c_NxbRKT4a9",
    "outputId": "bbeb94c9-9a1e-4e5b-f4b1-26ca1e996d00"
   },
   "outputs": [
    {
     "name": "stdout",
     "output_type": "stream",
     "text": [
      "Datos originales\n",
      " count    12107.000000\n",
      "mean         2.948697\n",
      "std          0.827642\n",
      "min          0.844000\n",
      "25%          2.303500\n",
      "50%          2.965000\n",
      "75%          3.615500\n",
      "max          4.702000\n",
      "Name: rating, dtype: float64\n",
      "Datos nuevos\n",
      " count    14578.000000\n",
      "mean         2.951460\n",
      "std          0.754263\n",
      "min          0.844000\n",
      "25%          2.451000\n",
      "50%          2.965000\n",
      "75%          3.479000\n",
      "max          4.702000\n",
      "Name: rating, dtype: float64\n"
     ]
    }
   ],
   "source": [
    "#Veo como cambia al reemplazar por la mediana\n",
    "datosCopia = datos.copy()\n",
    "datosCopia.rating = datosCopia.rating.fillna(datosCopia.rating.median())\n",
    "print(\"Datos originales\\n\",datos.rating.describe())\n",
    "print(\"Datos nuevos\\n\",datosCopia.rating.describe())"
   ]
  },
  {
   "cell_type": "code",
   "execution_count": 30,
   "metadata": {
    "executionInfo": {
     "elapsed": 43,
     "status": "ok",
     "timestamp": 1697300267149,
     "user": {
      "displayName": "Tomás",
      "userId": "06061372257499144673"
     },
     "user_tz": 180
    },
    "id": "TbjTpwroUxR_"
   },
   "outputs": [],
   "source": [
    "#Considerando el efecto que tiene para ambos casos en la desviacion estandar y los cuartiles, y considerando que se trata del puntaje y que con las\n",
    "#preguntas planteadas quiero poder lograr resultados muy precisios decido no tomar el riesgo y eliminar los valores NaN\n",
    "datos = datos.dropna(subset=[\"rating\"])"
   ]
  },
  {
   "cell_type": "markdown",
   "metadata": {
    "id": "eQQVBeIVu0j1"
   },
   "source": [
    "Columna sznOfRelease"
   ]
  },
  {
   "cell_type": "code",
   "execution_count": 31,
   "metadata": {
    "colab": {
     "base_uri": "https://localhost:8080/"
    },
    "executionInfo": {
     "elapsed": 43,
     "status": "ok",
     "timestamp": 1697300267150,
     "user": {
      "displayName": "Tomás",
      "userId": "06061372257499144673"
     },
     "user_tz": 180
    },
    "id": "v9K8aw5cu2sD",
    "outputId": "712167d9-1ed4-4745-b00a-dc57ce4a0ece"
   },
   "outputs": [
    {
     "data": {
      "text/plain": [
       "array(['Spring', nan, 'Fall', 'Winter', 'Summer'], dtype=object)"
      ]
     },
     "execution_count": 31,
     "metadata": {},
     "output_type": "execute_result"
    }
   ],
   "source": [
    "#Veo los valores que sznOfRelease puede tomar para ver si hay o no errores\n",
    "#Se puede observar que hay valores NaN\n",
    "datos['sznOfRelease'].unique()"
   ]
  },
  {
   "cell_type": "code",
   "execution_count": 32,
   "metadata": {
    "colab": {
     "base_uri": "https://localhost:8080/"
    },
    "executionInfo": {
     "elapsed": 39,
     "status": "ok",
     "timestamp": 1697300267150,
     "user": {
      "displayName": "Tomás",
      "userId": "06061372257499144673"
     },
     "user_tz": 180
    },
    "id": "GWkna8gpu8EU",
    "outputId": "16b8e97c-253c-4f5b-d1dc-67e79915e55d"
   },
   "outputs": [
    {
     "name": "stderr",
     "output_type": "stream",
     "text": [
      "<ipython-input-32-9ddad37a0a7d>:2: SettingWithCopyWarning: \n",
      "A value is trying to be set on a copy of a slice from a DataFrame\n",
      "\n",
      "See the caveats in the documentation: https://pandas.pydata.org/pandas-docs/stable/user_guide/indexing.html#returning-a-view-versus-a-copy\n",
      "  datos['sznOfRelease'].fillna(\"Desconocido\", inplace=True)\n"
     ]
    }
   ],
   "source": [
    "#A los valores NaN le agrego \"Desconocido\"\n",
    "datos['sznOfRelease'].fillna(\"Desconocido\", inplace=True)"
   ]
  },
  {
   "cell_type": "markdown",
   "metadata": {
    "id": "sqqS31j5OQRn"
   },
   "source": [
    "Columna MediaType"
   ]
  },
  {
   "cell_type": "code",
   "execution_count": 33,
   "metadata": {
    "colab": {
     "base_uri": "https://localhost:8080/"
    },
    "executionInfo": {
     "elapsed": 37,
     "status": "ok",
     "timestamp": 1697300267151,
     "user": {
      "displayName": "Tomás",
      "userId": "06061372257499144673"
     },
     "user_tz": 180
    },
    "id": "c4Noq5ujgfXX",
    "outputId": "2060eeb9-8cc4-47ab-ebd7-f46365d15eab"
   },
   "outputs": [
    {
     "data": {
      "text/plain": [
       "array(['TV', 'Movie', 'Web', 'TV Special', 'OVA', nan, 'DVD Special',\n",
       "       'Other', 'Music Video'], dtype=object)"
      ]
     },
     "execution_count": 33,
     "metadata": {},
     "output_type": "execute_result"
    }
   ],
   "source": [
    "#Veo los valores que mediaType puede tomar para ver si hay o no errores\n",
    "#Se puede observar que hay valores NaN\n",
    "datos['mediaType'].unique()"
   ]
  },
  {
   "cell_type": "code",
   "execution_count": 34,
   "metadata": {
    "colab": {
     "base_uri": "https://localhost:8080/"
    },
    "executionInfo": {
     "elapsed": 34,
     "status": "ok",
     "timestamp": 1697300267151,
     "user": {
      "displayName": "Tomás",
      "userId": "06061372257499144673"
     },
     "user_tz": 180
    },
    "id": "5xSNw8vwOoHd",
    "outputId": "c1d38e6c-e0bc-40c8-e47f-e8acdde59126"
   },
   "outputs": [
    {
     "name": "stderr",
     "output_type": "stream",
     "text": [
      "<ipython-input-34-b53988aebad5>:2: SettingWithCopyWarning: \n",
      "A value is trying to be set on a copy of a slice from a DataFrame\n",
      "\n",
      "See the caveats in the documentation: https://pandas.pydata.org/pandas-docs/stable/user_guide/indexing.html#returning-a-view-versus-a-copy\n",
      "  datos['mediaType'].fillna(\"Desconocido\", inplace=True)\n"
     ]
    }
   ],
   "source": [
    "#A los valores NaN le agrego \"Desconocido\"\n",
    "datos['mediaType'].fillna(\"Desconocido\", inplace=True)"
   ]
  },
  {
   "cell_type": "markdown",
   "metadata": {
    "id": "Ub-P4B4gz1vB"
   },
   "source": [
    "**Crear nuevas columnas**\n",
    "\n",
    "Ahora procedo a crear nuevas columnas según sea necesario."
   ]
  },
  {
   "cell_type": "markdown",
   "metadata": {
    "id": "fYsF8fkmquBK"
   },
   "source": [
    "Creación de la Columna addedList"
   ]
  },
  {
   "cell_type": "code",
   "execution_count": 35,
   "metadata": {
    "colab": {
     "base_uri": "https://localhost:8080/"
    },
    "executionInfo": {
     "elapsed": 32,
     "status": "ok",
     "timestamp": 1697300267152,
     "user": {
      "displayName": "Tomás",
      "userId": "06061372257499144673"
     },
     "user_tz": 180
    },
    "id": "YJLv60_Opk87",
    "outputId": "3bbf4d06-f856-4595-9750-8bfc56d334a0"
   },
   "outputs": [
    {
     "name": "stderr",
     "output_type": "stream",
     "text": [
      "<ipython-input-35-487320b91e08>:3: SettingWithCopyWarning: \n",
      "A value is trying to be set on a copy of a slice from a DataFrame.\n",
      "Try using .loc[row_indexer,col_indexer] = value instead\n",
      "\n",
      "See the caveats in the documentation: https://pandas.pydata.org/pandas-docs/stable/user_guide/indexing.html#returning-a-view-versus-a-copy\n",
      "  datos[\"addedList\"] = datos[\"watching\"]+datos[\"wantWatch\"]+datos[\"watched\"]+datos[\"dropped\"]\n"
     ]
    }
   ],
   "source": [
    "#Creo una nueva columna a la cual llamo addedList(Agregado a la lista) la cual representa la cantidad de personas que tiene la serie agregada a su lista, es decir corresponde a la suma de los valores de watching,wantWatch,watched y dropped\n",
    "#Cabe recordar que estos valores que se estan sumando son mutuamente excluyentes, es decir un usuario no puede tener una serie en mas de un estado a la vez\n",
    "datos[\"addedList\"] = datos[\"watching\"]+datos[\"wantWatch\"]+datos[\"watched\"]+datos[\"dropped\"]"
   ]
  },
  {
   "cell_type": "markdown",
   "metadata": {
    "id": "BlSaVxZpzAEy"
   },
   "source": [
    "Creación de la Columna hasContentWarn"
   ]
  },
  {
   "cell_type": "code",
   "execution_count": 36,
   "metadata": {
    "colab": {
     "base_uri": "https://localhost:8080/"
    },
    "executionInfo": {
     "elapsed": 29,
     "status": "ok",
     "timestamp": 1697300267152,
     "user": {
      "displayName": "Tomás",
      "userId": "06061372257499144673"
     },
     "user_tz": 180
    },
    "id": "GUezGURBvDBt",
    "outputId": "a4c5badb-bb24-4dbf-8eba-df38804b868e"
   },
   "outputs": [
    {
     "name": "stderr",
     "output_type": "stream",
     "text": [
      "<ipython-input-36-0e8f8ec44fed>:8: SettingWithCopyWarning: \n",
      "A value is trying to be set on a copy of a slice from a DataFrame.\n",
      "Try using .loc[row_indexer,col_indexer] = value instead\n",
      "\n",
      "See the caveats in the documentation: https://pandas.pydata.org/pandas-docs/stable/user_guide/indexing.html#returning-a-view-versus-a-copy\n",
      "  datos['hasContentWarn'] = datos['contentWarn'].apply(verificarNoApto)\n"
     ]
    }
   ],
   "source": [
    "#Creo la columna hasContentWarn en donde se indicara por medio de un valor True o False si la serie tiene o no contenido apropiado para todo el publico\n",
    "#True significa que el contenido no es apropiado para todo publico y False que si es apropiado\n",
    "#Para hacer esto dado que la columna contentWarn lista todos los contenidos no apropiados de la forma [\"contenido1\",\"contenido2\"] verifico cuales no estan vacios, es decir que no son []\n",
    "#Y dependiendo de si estan o no vacios le asigno True o False a los valores de la nueva columna\n",
    "def verificarNoApto(string):\n",
    "    return string != \"[]\"\n",
    "\n",
    "datos['hasContentWarn'] = datos['contentWarn'].apply(verificarNoApto)"
   ]
  },
  {
   "cell_type": "code",
   "execution_count": 37,
   "metadata": {
    "colab": {
     "base_uri": "https://localhost:8080/"
    },
    "executionInfo": {
     "elapsed": 26,
     "status": "ok",
     "timestamp": 1697300267153,
     "user": {
      "displayName": "Tomás",
      "userId": "06061372257499144673"
     },
     "user_tz": 180
    },
    "id": "jIbGX50IafFU",
    "outputId": "f351cc13-8ae5-4b72-c514-71496686375e"
   },
   "outputs": [
    {
     "data": {
      "text/plain": [
       "array([ True, False])"
      ]
     },
     "execution_count": 37,
     "metadata": {},
     "output_type": "execute_result"
    }
   ],
   "source": [
    "#Veo los valores que puede tomar hasContentWarn para ver si todos son True o False y asi verificar que no haya errores\n",
    "#Se puede observar que hay valores NaN\n",
    "datos['hasContentWarn'].unique()"
   ]
  },
  {
   "cell_type": "code",
   "execution_count": 38,
   "metadata": {
    "colab": {
     "base_uri": "https://localhost:8080/",
     "height": 548
    },
    "executionInfo": {
     "elapsed": 22,
     "status": "ok",
     "timestamp": 1697300267153,
     "user": {
      "displayName": "Tomás",
      "userId": "06061372257499144673"
     },
     "user_tz": 180
    },
    "id": "ooZMwz43FXNv",
    "outputId": "31647bf5-8e38-4b60-ea61-b3a914af850e"
   },
   "outputs": [
    {
     "data": {
      "text/plain": [
       "([<matplotlib.patches.Wedge at 0x7e5a01fae9b0>,\n",
       "  <matplotlib.patches.Wedge at 0x7e5a01f7d0c0>],\n",
       " [Text(1.0286151615166286, 0.3898087345072204, 'True(No apto para todo publico)'),\n",
       "  Text(-1.0286151523924962, -0.38980875858369585, 'False(Apto para todo publico)')],\n",
       " [Text(0.5610628153727064, 0.21262294609484747, '11.5%'),\n",
       "  Text(-0.5610628103959069, -0.21262295922747043, '88.5%')])"
      ]
     },
     "execution_count": 38,
     "metadata": {},
     "output_type": "execute_result"
    },
    {
     "data": {
      "image/png": "[encoded data removed]",
      "text/plain": [
       "<Figure size 800x500 with 1 Axes>"
      ]
     },
     "metadata": {},
     "output_type": "display_data"
    }
   ],
   "source": [
    "#Procedo a ver graficamente como se comparan los valores de True y False en la columna recien creada y se observa que la mayoria pertenece a la categoria de apto para todo publico\n",
    "hasContentWarn1 = datos.loc[datos[\"hasContentWarn\"].round()==True].count()[0]\n",
    "hasContentWarn2 = datos.loc[datos[\"hasContentWarn\"].round()==False].count()[0]\n",
    "\n",
    "plt.figure(figsize=(8,5))\n",
    "plt.title(\"Tipo de contenido segun tipo de publico\")\n",
    "labels=[\"True(No apto para todo publico)\",\"False(Apto para todo publico)\"]\n",
    "plt.pie([hasContentWarn1,hasContentWarn2],labels=labels, autopct='%1.1f%%')"
   ]
  },
  {
   "cell_type": "markdown",
   "metadata": {
    "id": "yJw8LxQE0hvf"
   },
   "source": [
    "**Discretizar Datos**\n",
    "\n",
    "Transformo las columnas de texto a números según corresponda."
   ]
  },
  {
   "cell_type": "markdown",
   "metadata": {
    "id": "l20fATTyvDcy"
   },
   "source": [
    "Columna sznOfRelease"
   ]
  },
  {
   "cell_type": "code",
   "execution_count": 39,
   "metadata": {
    "executionInfo": {
     "elapsed": 379,
     "status": "ok",
     "timestamp": 1697300267514,
     "user": {
      "displayName": "Tomás",
      "userId": "06061372257499144673"
     },
     "user_tz": 180
    },
    "id": "uOLD9FoGvJCA"
   },
   "outputs": [],
   "source": [
    "#Reemplazo cada valor por un valor numerico\n",
    "datos.sznOfRelease = datos.sznOfRelease.str.replace(\"Spring\",\"0\")\n",
    "datos.sznOfRelease = datos.sznOfRelease.str.replace(\"Fall\",\"1\")\n",
    "datos.sznOfRelease = datos.sznOfRelease.str.replace(\"Winter\",\"2\")\n",
    "datos.sznOfRelease = datos.sznOfRelease.str.replace(\"Summer\",\"3\")\n",
    "datos.sznOfRelease = datos.sznOfRelease.str.replace(\"Desconocido\",\"4\")"
   ]
  },
  {
   "cell_type": "code",
   "execution_count": 40,
   "metadata": {
    "colab": {
     "base_uri": "https://localhost:8080/"
    },
    "executionInfo": {
     "elapsed": 382,
     "status": "ok",
     "timestamp": 1697300267517,
     "user": {
      "displayName": "Tomás",
      "userId": "06061372257499144673"
     },
     "user_tz": 180
    },
    "id": "BzByh-W2viLU",
    "outputId": "b730f638-562c-4363-fe23-4f4a8f3b2c83"
   },
   "outputs": [
    {
     "data": {
      "text/plain": [
       "array(['0', '4', '1', '2', '3'], dtype=object)"
      ]
     },
     "execution_count": 40,
     "metadata": {},
     "output_type": "execute_result"
    }
   ],
   "source": [
    "#Veo los valores que sznOfRelease puede tomar para ver que todos se hayan reemplazado correctamente\n",
    "datos['sznOfRelease'].unique()"
   ]
  },
  {
   "cell_type": "code",
   "execution_count": 41,
   "metadata": {
    "executionInfo": {
     "elapsed": 51,
     "status": "ok",
     "timestamp": 1697300267518,
     "user": {
      "displayName": "Tomás",
      "userId": "06061372257499144673"
     },
     "user_tz": 180
    },
    "id": "IHljpB1A0XRb"
   },
   "outputs": [],
   "source": [
    "#convierto todos los valores a entero para mantener todos los datos en el tipo que le corresponde\n",
    "datos[\"sznOfRelease\"] = datos[\"sznOfRelease\"].astype(int)"
   ]
  },
  {
   "cell_type": "markdown",
   "metadata": {
    "id": "F79H_OlMNf3K"
   },
   "source": [
    "Columna mediaType"
   ]
  },
  {
   "cell_type": "code",
   "execution_count": 42,
   "metadata": {
    "executionInfo": {
     "elapsed": 52,
     "status": "ok",
     "timestamp": 1697300267519,
     "user": {
      "displayName": "Tomás",
      "userId": "06061372257499144673"
     },
     "user_tz": 180
    },
    "id": "IiJfdsuVNcjF"
   },
   "outputs": [],
   "source": [
    "#Reemplazo cada valor por un valor numerico\n",
    "datos.mediaType = datos.mediaType.str.replace(\"TV Special\",\"0\")\n",
    "datos.mediaType = datos.mediaType.str.replace(\"Movie\",\"1\")\n",
    "datos.mediaType = datos.mediaType.str.replace(\"Web\",\"2\")\n",
    "datos.mediaType = datos.mediaType.str.replace(\"OVA\",\"3\")\n",
    "datos.mediaType = datos.mediaType.str.replace(\"DVD Special\",\"4\")\n",
    "datos.mediaType = datos.mediaType.str.replace(\"Other\",\"5\")\n",
    "datos.mediaType = datos.mediaType.str.replace(\"Music Video\",\"6\")\n",
    "datos.mediaType = datos.mediaType.str.replace(\"TV\",\"7\")\n",
    "datos.mediaType = datos.mediaType.str.replace(\"Desconocido\",\"8\")\n"
   ]
  },
  {
   "cell_type": "code",
   "execution_count": 43,
   "metadata": {
    "colab": {
     "base_uri": "https://localhost:8080/"
    },
    "executionInfo": {
     "elapsed": 51,
     "status": "ok",
     "timestamp": 1697300267519,
     "user": {
      "displayName": "Tomás",
      "userId": "06061372257499144673"
     },
     "user_tz": 180
    },
    "id": "DQ700DUHb8vr",
    "outputId": "5fba3ab3-2064-4e87-b30f-7db2a4206563"
   },
   "outputs": [
    {
     "data": {
      "text/plain": [
       "array(['7', '1', '2', '0', '3', '8', '4', '5', '6'], dtype=object)"
      ]
     },
     "execution_count": 43,
     "metadata": {},
     "output_type": "execute_result"
    }
   ],
   "source": [
    "#Veo los valores que mediaType puede tomar para ver que todos se hayan reemplazado correctamente\n",
    "datos['mediaType'].unique()"
   ]
  },
  {
   "cell_type": "code",
   "execution_count": 44,
   "metadata": {
    "executionInfo": {
     "elapsed": 46,
     "status": "ok",
     "timestamp": 1697300267520,
     "user": {
      "displayName": "Tomás",
      "userId": "06061372257499144673"
     },
     "user_tz": 180
    },
    "id": "4BFRB4Pr0baR"
   },
   "outputs": [],
   "source": [
    "#convierto todos los valores a entero para mantener todos los datos en el tipo que le corresponde\n",
    "datos[\"mediaType\"] = datos[\"mediaType\"].astype(int)"
   ]
  },
  {
   "cell_type": "markdown",
   "metadata": {
    "id": "i_9wxGVLz-9D"
   },
   "source": [
    "**Normalizar y reducir dimensionalidad**"
   ]
  },
  {
   "cell_type": "code",
   "execution_count": 45,
   "metadata": {
    "executionInfo": {
     "elapsed": 45,
     "status": "ok",
     "timestamp": 1697300267520,
     "user": {
      "displayName": "Tomás",
      "userId": "06061372257499144673"
     },
     "user_tz": 180
    },
    "id": "DhLAR7t_AmAL"
   },
   "outputs": [],
   "source": [
    "#Se eliminan todas las columnas que carecen de informacion relevante para responder a las preguntas planteadas y las que ya no son necesarias\n",
    "datos = datos.drop(\"description\",axis=1)\n",
    "datos = datos.drop(\"studios\",axis=1)\n",
    "datos = datos.drop(\"duration\",axis=1)\n",
    "datos = datos.drop(\"tags\",axis=1)\n",
    "datos = datos.drop(\"contentWarn\",axis=1)\n",
    "datos = datos.drop(\"finishYr\",axis=1)\n",
    "datos = datos.drop(\"watched\",axis=1)\n",
    "datos = datos.drop(\"wantWatch\",axis=1)\n",
    "datos = datos.drop(\"dropped\",axis=1)\n",
    "datos = datos.drop(\"votes\",axis=1)\n",
    "datos = datos.drop(\"watching\",axis=1)"
   ]
  },
  {
   "cell_type": "code",
   "execution_count": 46,
   "metadata": {
    "colab": {
     "base_uri": "https://localhost:8080/",
     "height": 429
    },
    "executionInfo": {
     "elapsed": 44,
     "status": "ok",
     "timestamp": 1697300267520,
     "user": {
      "displayName": "Tomás",
      "userId": "06061372257499144673"
     },
     "user_tz": 180
    },
    "id": "mn5uETGyG2A4",
    "outputId": "9b0e1379-1c6d-44aa-cf6a-38095db93f7f"
   },
   "outputs": [
    {
     "data": {
      "text/html": [
       "\n",
       "  <div id=\"df-cbc93027-cd66-4619-a671-20008580f93a\" class=\"colab-df-container\">\n",
       "    <div>\n",
       "<style scoped>\n",
       "    .dataframe tbody tr th:only-of-type {\n",
       "        vertical-align: middle;\n",
       "    }\n",
       "\n",
       "    .dataframe tbody tr th {\n",
       "        vertical-align: top;\n",
       "    }\n",
       "\n",
       "    .dataframe thead th {\n",
       "        text-align: right;\n",
       "    }\n",
       "</style>\n",
       "<table border=\"1\" class=\"dataframe\">\n",
       "  <thead>\n",
       "    <tr style=\"text-align: right;\">\n",
       "      <th></th>\n",
       "      <th>mediaType</th>\n",
       "      <th>eps</th>\n",
       "      <th>ongoing</th>\n",
       "      <th>startYr</th>\n",
       "      <th>sznOfRelease</th>\n",
       "      <th>rating</th>\n",
       "      <th>addedList</th>\n",
       "      <th>hasContentWarn</th>\n",
       "    </tr>\n",
       "    <tr>\n",
       "      <th>title</th>\n",
       "      <th></th>\n",
       "      <th></th>\n",
       "      <th></th>\n",
       "      <th></th>\n",
       "      <th></th>\n",
       "      <th></th>\n",
       "      <th></th>\n",
       "      <th></th>\n",
       "    </tr>\n",
       "  </thead>\n",
       "  <tbody>\n",
       "    <tr>\n",
       "      <th>Fullmetal Alchemist: Brotherhood</th>\n",
       "      <td>7</td>\n",
       "      <td>64</td>\n",
       "      <td>False</td>\n",
       "      <td>2009</td>\n",
       "      <td>0</td>\n",
       "      <td>4.702</td>\n",
       "      <td>146524</td>\n",
       "      <td>True</td>\n",
       "    </tr>\n",
       "    <tr>\n",
       "      <th>your name.</th>\n",
       "      <td>1</td>\n",
       "      <td>1</td>\n",
       "      <td>False</td>\n",
       "      <td>2016</td>\n",
       "      <td>4</td>\n",
       "      <td>4.663</td>\n",
       "      <td>82141</td>\n",
       "      <td>False</td>\n",
       "    </tr>\n",
       "    <tr>\n",
       "      <th>A Silent Voice</th>\n",
       "      <td>1</td>\n",
       "      <td>1</td>\n",
       "      <td>False</td>\n",
       "      <td>2016</td>\n",
       "      <td>4</td>\n",
       "      <td>4.661</td>\n",
       "      <td>64118</td>\n",
       "      <td>True</td>\n",
       "    </tr>\n",
       "    <tr>\n",
       "      <th>Haikyuu!! Karasuno High School vs Shiratorizawa Academy</th>\n",
       "      <td>7</td>\n",
       "      <td>10</td>\n",
       "      <td>False</td>\n",
       "      <td>2016</td>\n",
       "      <td>1</td>\n",
       "      <td>4.660</td>\n",
       "      <td>35566</td>\n",
       "      <td>False</td>\n",
       "    </tr>\n",
       "    <tr>\n",
       "      <th>Attack on Titan 3rd Season: Part II</th>\n",
       "      <td>7</td>\n",
       "      <td>10</td>\n",
       "      <td>False</td>\n",
       "      <td>2019</td>\n",
       "      <td>0</td>\n",
       "      <td>4.650</td>\n",
       "      <td>32563</td>\n",
       "      <td>True</td>\n",
       "    </tr>\n",
       "    <tr>\n",
       "      <th>Demon Slayer: Kimetsu no Yaiba</th>\n",
       "      <td>7</td>\n",
       "      <td>26</td>\n",
       "      <td>False</td>\n",
       "      <td>2019</td>\n",
       "      <td>0</td>\n",
       "      <td>4.647</td>\n",
       "      <td>53308</td>\n",
       "      <td>True</td>\n",
       "    </tr>\n",
       "    <tr>\n",
       "      <th>Haikyuu!! Second Season</th>\n",
       "      <td>7</td>\n",
       "      <td>25</td>\n",
       "      <td>False</td>\n",
       "      <td>2015</td>\n",
       "      <td>1</td>\n",
       "      <td>4.639</td>\n",
       "      <td>44118</td>\n",
       "      <td>False</td>\n",
       "    </tr>\n",
       "    <tr>\n",
       "      <th>Hunter x Hunter (2011)</th>\n",
       "      <td>7</td>\n",
       "      <td>148</td>\n",
       "      <td>False</td>\n",
       "      <td>2011</td>\n",
       "      <td>1</td>\n",
       "      <td>4.635</td>\n",
       "      <td>89276</td>\n",
       "      <td>True</td>\n",
       "    </tr>\n",
       "    <tr>\n",
       "      <th>Gintama Kanketsu-hen: Yorozuya yo Eien Nare</th>\n",
       "      <td>1</td>\n",
       "      <td>1</td>\n",
       "      <td>False</td>\n",
       "      <td>2013</td>\n",
       "      <td>4</td>\n",
       "      <td>4.625</td>\n",
       "      <td>15508</td>\n",
       "      <td>False</td>\n",
       "    </tr>\n",
       "    <tr>\n",
       "      <th>Gintama (2015)</th>\n",
       "      <td>7</td>\n",
       "      <td>51</td>\n",
       "      <td>False</td>\n",
       "      <td>2015</td>\n",
       "      <td>0</td>\n",
       "      <td>4.622</td>\n",
       "      <td>22228</td>\n",
       "      <td>False</td>\n",
       "    </tr>\n",
       "  </tbody>\n",
       "</table>\n",
       "</div>\n",
       "    <div class=\"colab-df-buttons\">\n",
       "\n",
       "  <div class=\"colab-df-container\">\n",
       "    <button class=\"colab-df-convert\" onclick=\"convertToInteractive('df-cbc93027-cd66-4619-a671-20008580f93a')\"\n",
       "            title=\"Convert this dataframe to an interactive table.\"\n",
       "            style=\"display:none;\">\n",
       "\n",
       "  <svg xmlns=\"http://www.w3.org/2000/svg\" height=\"24px\" viewBox=\"0 -960 960 960\">\n",
       "    <path d=\"M120-120v-720h720v720H120Zm60-500h600v-160H180v160Zm220 220h160v-160H400v160Zm0 220h160v-160H400v160ZM180-400h160v-160H180v160Zm440 0h160v-160H620v160ZM180-180h160v-160H180v160Zm440 0h160v-160H620v160Z\"/>\n",
       "  </svg>\n",
       "    </button>\n",
       "\n",
       "  <style>\n",
       "    .colab-df-container {\n",
       "      display:flex;\n",
       "      gap: 12px;\n",
       "    }\n",
       "\n",
       "    .colab-df-convert {\n",
       "      background-color: #E8F0FE;\n",
       "      border: none;\n",
       "      border-radius: 50%;\n",
       "      cursor: pointer;\n",
       "      display: none;\n",
       "      fill: #1967D2;\n",
       "      height: 32px;\n",
       "      padding: 0 0 0 0;\n",
       "      width: 32px;\n",
       "    }\n",
       "\n",
       "    .colab-df-convert:hover {\n",
       "      background-color: #E2EBFA;\n",
       "      box-shadow: 0px 1px 2px rgba(60, 64, 67, 0.3), 0px 1px 3px 1px rgba(60, 64, 67, 0.15);\n",
       "      fill: #174EA6;\n",
       "    }\n",
       "\n",
       "    .colab-df-buttons div {\n",
       "      margin-bottom: 4px;\n",
       "    }\n",
       "\n",
       "    [theme=dark] .colab-df-convert {\n",
       "      background-color: #3B4455;\n",
       "      fill: #D2E3FC;\n",
       "    }\n",
       "\n",
       "    [theme=dark] .colab-df-convert:hover {\n",
       "      background-color: #434B5C;\n",
       "      box-shadow: 0px 1px 3px 1px rgba(0, 0, 0, 0.15);\n",
       "      filter: drop-shadow(0px 1px 2px rgba(0, 0, 0, 0.3));\n",
       "      fill: #FFFFFF;\n",
       "    }\n",
       "  </style>\n",
       "\n",
       "    <script>\n",
       "      const buttonEl =\n",
       "        document.querySelector('#df-cbc93027-cd66-4619-a671-20008580f93a button.colab-df-convert');\n",
       "      buttonEl.style.display =\n",
       "        google.colab.kernel.accessAllowed ? 'block' : 'none';\n",
       "\n",
       "      async function convertToInteractive(key) {\n",
       "        const element = document.querySelector('#df-cbc93027-cd66-4619-a671-20008580f93a');\n",
       "        const dataTable =\n",
       "          await google.colab.kernel.invokeFunction('convertToInteractive',\n",
       "                                                    [key], {});\n",
       "        if (!dataTable) return;\n",
       "\n",
       "        const docLinkHtml = 'Like what you see? Visit the ' +\n",
       "          '<a target=\"_blank\" href=https://colab.research.google.com/notebooks/data_table.ipynb>data table notebook</a>'\n",
       "          + ' to learn more about interactive tables.';\n",
       "        element.innerHTML = '';\n",
       "        dataTable['output_type'] = 'display_data';\n",
       "        await google.colab.output.renderOutput(dataTable, element);\n",
       "        const docLink = document.createElement('div');\n",
       "        docLink.innerHTML = docLinkHtml;\n",
       "        element.appendChild(docLink);\n",
       "      }\n",
       "    </script>\n",
       "  </div>\n",
       "\n",
       "\n",
       "<div id=\"df-72dea267-9852-462a-b189-5cb521ae0241\">\n",
       "  <button class=\"colab-df-quickchart\" onclick=\"quickchart('df-72dea267-9852-462a-b189-5cb521ae0241')\"\n",
       "            title=\"Suggest charts.\"\n",
       "            style=\"display:none;\">\n",
       "\n",
       "<svg xmlns=\"http://www.w3.org/2000/svg\" height=\"24px\"viewBox=\"0 0 24 24\"\n",
       "     width=\"24px\">\n",
       "    <g>\n",
       "        <path d=\"M19 3H5c-1.1 0-2 .9-2 2v14c0 1.1.9 2 2 2h14c1.1 0 2-.9 2-2V5c0-1.1-.9-2-2-2zM9 17H7v-7h2v7zm4 0h-2V7h2v10zm4 0h-2v-4h2v4z\"/>\n",
       "    </g>\n",
       "</svg>\n",
       "  </button>\n",
       "\n",
       "<style>\n",
       "  .colab-df-quickchart {\n",
       "      --bg-color: #E8F0FE;\n",
       "      --fill-color: #1967D2;\n",
       "      --hover-bg-color: #E2EBFA;\n",
       "      --hover-fill-color: #174EA6;\n",
       "      --disabled-fill-color: #AAA;\n",
       "      --disabled-bg-color: #DDD;\n",
       "  }\n",
       "\n",
       "  [theme=dark] .colab-df-quickchart {\n",
       "      --bg-color: #3B4455;\n",
       "      --fill-color: #D2E3FC;\n",
       "      --hover-bg-color: #434B5C;\n",
       "      --hover-fill-color: #FFFFFF;\n",
       "      --disabled-bg-color: #3B4455;\n",
       "      --disabled-fill-color: #666;\n",
       "  }\n",
       "\n",
       "  .colab-df-quickchart {\n",
       "    background-color: var(--bg-color);\n",
       "    border: none;\n",
       "    border-radius: 50%;\n",
       "    cursor: pointer;\n",
       "    display: none;\n",
       "    fill: var(--fill-color);\n",
       "    height: 32px;\n",
       "    padding: 0;\n",
       "    width: 32px;\n",
       "  }\n",
       "\n",
       "  .colab-df-quickchart:hover {\n",
       "    background-color: var(--hover-bg-color);\n",
       "    box-shadow: 0 1px 2px rgba(60, 64, 67, 0.3), 0 1px 3px 1px rgba(60, 64, 67, 0.15);\n",
       "    fill: var(--button-hover-fill-color);\n",
       "  }\n",
       "\n",
       "  .colab-df-quickchart-complete:disabled,\n",
       "  .colab-df-quickchart-complete:disabled:hover {\n",
       "    background-color: var(--disabled-bg-color);\n",
       "    fill: var(--disabled-fill-color);\n",
       "    box-shadow: none;\n",
       "  }\n",
       "\n",
       "  .colab-df-spinner {\n",
       "    border: 2px solid var(--fill-color);\n",
       "    border-color: transparent;\n",
       "    border-bottom-color: var(--fill-color);\n",
       "    animation:\n",
       "      spin 1s steps(1) infinite;\n",
       "  }\n",
       "\n",
       "  @keyframes spin {\n",
       "    0% {\n",
       "      border-color: transparent;\n",
       "      border-bottom-color: var(--fill-color);\n",
       "      border-left-color: var(--fill-color);\n",
       "    }\n",
       "    20% {\n",
       "      border-color: transparent;\n",
       "      border-left-color: var(--fill-color);\n",
       "      border-top-color: var(--fill-color);\n",
       "    }\n",
       "    30% {\n",
       "      border-color: transparent;\n",
       "      border-left-color: var(--fill-color);\n",
       "      border-top-color: var(--fill-color);\n",
       "      border-right-color: var(--fill-color);\n",
       "    }\n",
       "    40% {\n",
       "      border-color: transparent;\n",
       "      border-right-color: var(--fill-color);\n",
       "      border-top-color: var(--fill-color);\n",
       "    }\n",
       "    60% {\n",
       "      border-color: transparent;\n",
       "      border-right-color: var(--fill-color);\n",
       "    }\n",
       "    80% {\n",
       "      border-color: transparent;\n",
       "      border-right-color: var(--fill-color);\n",
       "      border-bottom-color: var(--fill-color);\n",
       "    }\n",
       "    90% {\n",
       "      border-color: transparent;\n",
       "      border-bottom-color: var(--fill-color);\n",
       "    }\n",
       "  }\n",
       "</style>\n",
       "\n",
       "  <script>\n",
       "    async function quickchart(key) {\n",
       "      const quickchartButtonEl =\n",
       "        document.querySelector('#' + key + ' button');\n",
       "      quickchartButtonEl.disabled = true;  // To prevent multiple clicks.\n",
       "      quickchartButtonEl.classList.add('colab-df-spinner');\n",
       "      try {\n",
       "        const charts = await google.colab.kernel.invokeFunction(\n",
       "            'suggestCharts', [key], {});\n",
       "      } catch (error) {\n",
       "        console.error('Error during call to suggestCharts:', error);\n",
       "      }\n",
       "      quickchartButtonEl.classList.remove('colab-df-spinner');\n",
       "      quickchartButtonEl.classList.add('colab-df-quickchart-complete');\n",
       "    }\n",
       "    (() => {\n",
       "      let quickchartButtonEl =\n",
       "        document.querySelector('#df-72dea267-9852-462a-b189-5cb521ae0241 button');\n",
       "      quickchartButtonEl.style.display =\n",
       "        google.colab.kernel.accessAllowed ? 'block' : 'none';\n",
       "    })();\n",
       "  </script>\n",
       "</div>\n",
       "    </div>\n",
       "  </div>\n"
      ],
      "text/plain": [
       "                                                    mediaType  eps  ongoing  \\\n",
       "title                                                                         \n",
       "Fullmetal Alchemist: Brotherhood                            7   64    False   \n",
       "your name.                                                  1    1    False   \n",
       "A Silent Voice                                              1    1    False   \n",
       "Haikyuu!! Karasuno High School vs Shiratorizawa...          7   10    False   \n",
       "Attack on Titan 3rd Season: Part II                         7   10    False   \n",
       "Demon Slayer: Kimetsu no Yaiba                              7   26    False   \n",
       "Haikyuu!! Second Season                                     7   25    False   \n",
       "Hunter x Hunter (2011)                                      7  148    False   \n",
       "Gintama Kanketsu-hen: Yorozuya yo Eien Nare                 1    1    False   \n",
       "Gintama (2015)                                              7   51    False   \n",
       "\n",
       "                                                    startYr  sznOfRelease  \\\n",
       "title                                                                       \n",
       "Fullmetal Alchemist: Brotherhood                       2009             0   \n",
       "your name.                                             2016             4   \n",
       "A Silent Voice                                         2016             4   \n",
       "Haikyuu!! Karasuno High School vs Shiratorizawa...     2016             1   \n",
       "Attack on Titan 3rd Season: Part II                    2019             0   \n",
       "Demon Slayer: Kimetsu no Yaiba                         2019             0   \n",
       "Haikyuu!! Second Season                                2015             1   \n",
       "Hunter x Hunter (2011)                                 2011             1   \n",
       "Gintama Kanketsu-hen: Yorozuya yo Eien Nare            2013             4   \n",
       "Gintama (2015)                                         2015             0   \n",
       "\n",
       "                                                    rating  addedList  \\\n",
       "title                                                                   \n",
       "Fullmetal Alchemist: Brotherhood                     4.702     146524   \n",
       "your name.                                           4.663      82141   \n",
       "A Silent Voice                                       4.661      64118   \n",
       "Haikyuu!! Karasuno High School vs Shiratorizawa...   4.660      35566   \n",
       "Attack on Titan 3rd Season: Part II                  4.650      32563   \n",
       "Demon Slayer: Kimetsu no Yaiba                       4.647      53308   \n",
       "Haikyuu!! Second Season                              4.639      44118   \n",
       "Hunter x Hunter (2011)                               4.635      89276   \n",
       "Gintama Kanketsu-hen: Yorozuya yo Eien Nare          4.625      15508   \n",
       "Gintama (2015)                                       4.622      22228   \n",
       "\n",
       "                                                    hasContentWarn  \n",
       "title                                                               \n",
       "Fullmetal Alchemist: Brotherhood                              True  \n",
       "your name.                                                   False  \n",
       "A Silent Voice                                                True  \n",
       "Haikyuu!! Karasuno High School vs Shiratorizawa...           False  \n",
       "Attack on Titan 3rd Season: Part II                           True  \n",
       "Demon Slayer: Kimetsu no Yaiba                                True  \n",
       "Haikyuu!! Second Season                                      False  \n",
       "Hunter x Hunter (2011)                                        True  \n",
       "Gintama Kanketsu-hen: Yorozuya yo Eien Nare                  False  \n",
       "Gintama (2015)                                               False  "
      ]
     },
     "execution_count": 46,
     "metadata": {},
     "output_type": "execute_result"
    }
   ],
   "source": [
    "#Aqui se observa como han quedado los datos tras las transformaciones realizadas y la creacion y eliminacion de columnas\n",
    "datos.head(10)"
   ]
  },
  {
   "cell_type": "code",
   "execution_count": 47,
   "metadata": {
    "executionInfo": {
     "elapsed": 42,
     "status": "ok",
     "timestamp": 1697300267520,
     "user": {
      "displayName": "Tomás",
      "userId": "06061372257499144673"
     },
     "user_tz": 180
    },
    "id": "INB7GmAhSNDQ"
   },
   "outputs": [],
   "source": [
    "#normalizo con respecto a la media algunas de las columnas como se exige para este trabajo\n",
    "def mean_norm(df_input, columna):\n",
    "    columna = df_input[columna]\n",
    "    return (columna - columna.mean()) / columna.std()\n",
    "\n",
    "#Decido guardar los datos normalizados en un dataframe distinto para poder continuar haciendo uso de los valores no normalizados segun lo requiera\n",
    "datosNormalizados = datos.copy()\n",
    "datosNormalizados[\"eps\"] = mean_norm(datosNormalizados, \"eps\")\n",
    "datosNormalizados[\"rating\"] = mean_norm(datosNormalizados, \"rating\")\n",
    "datosNormalizados[\"addedList\"] = mean_norm(datosNormalizados, \"addedList\")"
   ]
  },
  {
   "cell_type": "markdown",
   "metadata": {
    "id": "Er8j7Fl8PqQ3"
   },
   "source": [
    "#Modelado"
   ]
  },
  {
   "cell_type": "markdown",
   "metadata": {
    "id": "em2IeIzoeSZO"
   },
   "source": [
    "**Descubrir outliers**"
   ]
  },
  {
   "cell_type": "markdown",
   "metadata": {
    "id": "NBS3Rqjw8cpl"
   },
   "source": [
    "Columna startYr"
   ]
  },
  {
   "cell_type": "code",
   "execution_count": 48,
   "metadata": {
    "colab": {
     "base_uri": "https://localhost:8080/"
    },
    "executionInfo": {
     "elapsed": 42,
     "status": "ok",
     "timestamp": 1697300267521,
     "user": {
      "displayName": "Tomás",
      "userId": "06061372257499144673"
     },
     "user_tz": 180
    },
    "id": "4RcZkmf9i_Wq",
    "outputId": "b2aaaecd-a50f-493b-cd6d-1c21eb4949a2"
   },
   "outputs": [
    {
     "data": {
      "text/plain": [
       "count     622.000000\n",
       "mean     1962.747588\n",
       "std        17.122998\n",
       "min      1907.000000\n",
       "25%      1958.000000\n",
       "50%      1969.000000\n",
       "75%      1975.750000\n",
       "max      1979.000000\n",
       "Name: startYr, dtype: float64"
      ]
     },
     "execution_count": 48,
     "metadata": {},
     "output_type": "execute_result"
    }
   ],
   "source": [
    "#Veo cuales son los outliers de el año de emision(startYr) y se puede ver que los valores de outliers muestran años de varias decadas atras\n",
    "q1=datos[\"startYr\"].quantile(0.25)\n",
    "q3=datos[\"startYr\"].quantile(0.75)\n",
    "IQR=q3-q1\n",
    "\n",
    "limiteInferior=q1-1.5*IQR\n",
    "limiteSuperior=q3+1.5*IQR\n",
    "outliers=datos[(datos[\"startYr\"] < limiteInferior) | (datos[\"startYr\"]>limiteSuperior)]\n",
    "outliers[\"startYr\"].describe()"
   ]
  },
  {
   "cell_type": "code",
   "execution_count": 49,
   "metadata": {
    "executionInfo": {
     "elapsed": 39,
     "status": "ok",
     "timestamp": 1697300267521,
     "user": {
      "displayName": "Tomás",
      "userId": "06061372257499144673"
     },
     "user_tz": 180
    },
    "id": "1OKnF-iOjO76"
   },
   "outputs": [],
   "source": [
    "#Elimino los outliers para que no impacten en el analisis de los resultados puesto que puede haber cambios significativos entre las series actuales y las mas antiguas impidiendo reflejar la realidad actual de estas\n",
    "datos = datos.drop(outliers.index)"
   ]
  },
  {
   "cell_type": "code",
   "execution_count": 50,
   "metadata": {
    "colab": {
     "base_uri": "https://localhost:8080/"
    },
    "executionInfo": {
     "elapsed": 39,
     "status": "ok",
     "timestamp": 1697300267521,
     "user": {
      "displayName": "Tomás",
      "userId": "06061372257499144673"
     },
     "user_tz": 180
    },
    "id": "T1dbamJ4SP6X",
    "outputId": "deb5a5bf-ab71-4c59-d485-ed6746ef1e75"
   },
   "outputs": [
    {
     "data": {
      "text/plain": [
       "count     980.000000\n",
       "mean       79.969388\n",
       "std       145.322385\n",
       "min        29.000000\n",
       "25%        43.000000\n",
       "50%        51.000000\n",
       "75%        56.000000\n",
       "max      1888.000000\n",
       "Name: eps, dtype: float64"
      ]
     },
     "execution_count": 50,
     "metadata": {},
     "output_type": "execute_result"
    }
   ],
   "source": [
    "#Veo cuales son los outliers de los episodios(eps)\n",
    "q1=datos[\"eps\"].quantile(0.25)\n",
    "q3=datos[\"eps\"].quantile(0.75)\n",
    "IQR=q3-q1\n",
    "\n",
    "limiteInferior=q1-1.5*IQR\n",
    "limiteSuperior=q3+1.5*IQR\n",
    "outliers=datos[(datos[\"eps\"] < limiteInferior) | (datos[\"eps\"]>limiteSuperior)]\n",
    "outliers[\"eps\"].describe()"
   ]
  },
  {
   "cell_type": "code",
   "execution_count": 51,
   "metadata": {
    "executionInfo": {
     "elapsed": 37,
     "status": "ok",
     "timestamp": 1697300267522,
     "user": {
      "displayName": "Tomás",
      "userId": "06061372257499144673"
     },
     "user_tz": 180
    },
    "id": "kDWwzz6opsUI"
   },
   "outputs": [],
   "source": [
    "#Elimino los outliers para que las series con una cantidad inusual de episodios no se tomen en consideracion ya que podrian impactar en los resultados\n",
    "datos = datos.drop(outliers.index)"
   ]
  },
  {
   "cell_type": "code",
   "execution_count": 52,
   "metadata": {
    "colab": {
     "base_uri": "https://localhost:8080/"
    },
    "executionInfo": {
     "elapsed": 37,
     "status": "ok",
     "timestamp": 1697300267522,
     "user": {
      "displayName": "Tomás",
      "userId": "06061372257499144673"
     },
     "user_tz": 180
    },
    "id": "iYkZnYRqo0Cx",
    "outputId": "2f16a32f-c42f-4061-d679-8caa82c1215f"
   },
   "outputs": [
    {
     "data": {
      "text/plain": [
       "count      1260.000000\n",
       "mean      25868.253968\n",
       "std       18474.309821\n",
       "min       10510.000000\n",
       "25%       13959.750000\n",
       "50%       19418.500000\n",
       "75%       30009.500000\n",
       "max      151721.000000\n",
       "Name: addedList, dtype: float64"
      ]
     },
     "execution_count": 52,
     "metadata": {},
     "output_type": "execute_result"
    }
   ],
   "source": [
    "#Veo cuales son los outliers de addedList\n",
    "q1=datos[\"addedList\"].quantile(0.25)\n",
    "q3=datos[\"addedList\"].quantile(0.75)\n",
    "IQR=q3-q1\n",
    "\n",
    "limiteInferior=q1-1.5*IQR\n",
    "limiteSuperior=q3+1.5*IQR\n",
    "outliers=datos[(datos[\"addedList\"] < limiteInferior) | (datos[\"addedList\"]>limiteSuperior)]\n",
    "outliers[\"addedList\"].describe()"
   ]
  },
  {
   "cell_type": "code",
   "execution_count": 53,
   "metadata": {
    "executionInfo": {
     "elapsed": 35,
     "status": "ok",
     "timestamp": 1697300267523,
     "user": {
      "displayName": "Tomás",
      "userId": "06061372257499144673"
     },
     "user_tz": 180
    },
    "id": "4MA-KG7OqFvQ"
   },
   "outputs": [],
   "source": [
    "#Elimino los outliers para que no impacten el eanalisis de los resultados las series que tengan una cantidad insual de usuarios\n",
    "datos = datos.drop(outliers.index)"
   ]
  },
  {
   "cell_type": "markdown",
   "metadata": {
    "id": "JK3f3WJZ1FEj"
   },
   "source": [
    "**Analisis**"
   ]
  },
  {
   "cell_type": "code",
   "execution_count": 54,
   "metadata": {
    "colab": {
     "base_uri": "https://localhost:8080/",
     "height": 300
    },
    "executionInfo": {
     "elapsed": 34,
     "status": "ok",
     "timestamp": 1697300267523,
     "user": {
      "displayName": "Tomás",
      "userId": "06061372257499144673"
     },
     "user_tz": 180
    },
    "id": "J4K3s3D4PeSf",
    "outputId": "dddf707e-25bc-4d34-9d17-136e4b08f1fe"
   },
   "outputs": [
    {
     "data": {
      "text/html": [
       "\n",
       "  <div id=\"df-be4365eb-21c9-4118-b2e5-b3fe6a0a4ecb\" class=\"colab-df-container\">\n",
       "    <div>\n",
       "<style scoped>\n",
       "    .dataframe tbody tr th:only-of-type {\n",
       "        vertical-align: middle;\n",
       "    }\n",
       "\n",
       "    .dataframe tbody tr th {\n",
       "        vertical-align: top;\n",
       "    }\n",
       "\n",
       "    .dataframe thead th {\n",
       "        text-align: right;\n",
       "    }\n",
       "</style>\n",
       "<table border=\"1\" class=\"dataframe\">\n",
       "  <thead>\n",
       "    <tr style=\"text-align: right;\">\n",
       "      <th></th>\n",
       "      <th>mediaType</th>\n",
       "      <th>eps</th>\n",
       "      <th>startYr</th>\n",
       "      <th>sznOfRelease</th>\n",
       "      <th>rating</th>\n",
       "      <th>addedList</th>\n",
       "    </tr>\n",
       "  </thead>\n",
       "  <tbody>\n",
       "    <tr>\n",
       "      <th>count</th>\n",
       "      <td>9245.000000</td>\n",
       "      <td>9245.000000</td>\n",
       "      <td>9245.000000</td>\n",
       "      <td>9245.000000</td>\n",
       "      <td>9245.000000</td>\n",
       "      <td>9245.000000</td>\n",
       "    </tr>\n",
       "    <tr>\n",
       "      <th>mean</th>\n",
       "      <td>3.926230</td>\n",
       "      <td>5.304273</td>\n",
       "      <td>2008.489778</td>\n",
       "      <td>3.382910</td>\n",
       "      <td>2.839696</td>\n",
       "      <td>1762.522445</td>\n",
       "    </tr>\n",
       "    <tr>\n",
       "      <th>std</th>\n",
       "      <td>2.330254</td>\n",
       "      <td>7.008580</td>\n",
       "      <td>9.684811</td>\n",
       "      <td>1.241348</td>\n",
       "      <td>0.789106</td>\n",
       "      <td>2433.778160</td>\n",
       "    </tr>\n",
       "    <tr>\n",
       "      <th>min</th>\n",
       "      <td>0.000000</td>\n",
       "      <td>1.000000</td>\n",
       "      <td>1980.000000</td>\n",
       "      <td>0.000000</td>\n",
       "      <td>0.844000</td>\n",
       "      <td>0.000000</td>\n",
       "    </tr>\n",
       "    <tr>\n",
       "      <th>25%</th>\n",
       "      <td>2.000000</td>\n",
       "      <td>1.000000</td>\n",
       "      <td>2004.000000</td>\n",
       "      <td>4.000000</td>\n",
       "      <td>2.229000</td>\n",
       "      <td>107.000000</td>\n",
       "    </tr>\n",
       "    <tr>\n",
       "      <th>50%</th>\n",
       "      <td>3.000000</td>\n",
       "      <td>1.000000</td>\n",
       "      <td>2012.000000</td>\n",
       "      <td>4.000000</td>\n",
       "      <td>2.851000</td>\n",
       "      <td>592.000000</td>\n",
       "    </tr>\n",
       "    <tr>\n",
       "      <th>75%</th>\n",
       "      <td>6.000000</td>\n",
       "      <td>10.000000</td>\n",
       "      <td>2016.000000</td>\n",
       "      <td>4.000000</td>\n",
       "      <td>3.459000</td>\n",
       "      <td>2499.000000</td>\n",
       "    </tr>\n",
       "    <tr>\n",
       "      <th>max</th>\n",
       "      <td>8.000000</td>\n",
       "      <td>28.000000</td>\n",
       "      <td>2020.000000</td>\n",
       "      <td>4.000000</td>\n",
       "      <td>4.604000</td>\n",
       "      <td>10498.000000</td>\n",
       "    </tr>\n",
       "  </tbody>\n",
       "</table>\n",
       "</div>\n",
       "    <div class=\"colab-df-buttons\">\n",
       "\n",
       "  <div class=\"colab-df-container\">\n",
       "    <button class=\"colab-df-convert\" onclick=\"convertToInteractive('df-be4365eb-21c9-4118-b2e5-b3fe6a0a4ecb')\"\n",
       "            title=\"Convert this dataframe to an interactive table.\"\n",
       "            style=\"display:none;\">\n",
       "\n",
       "  <svg xmlns=\"http://www.w3.org/2000/svg\" height=\"24px\" viewBox=\"0 -960 960 960\">\n",
       "    <path d=\"M120-120v-720h720v720H120Zm60-500h600v-160H180v160Zm220 220h160v-160H400v160Zm0 220h160v-160H400v160ZM180-400h160v-160H180v160Zm440 0h160v-160H620v160ZM180-180h160v-160H180v160Zm440 0h160v-160H620v160Z\"/>\n",
       "  </svg>\n",
       "    </button>\n",
       "\n",
       "  <style>\n",
       "    .colab-df-container {\n",
       "      display:flex;\n",
       "      gap: 12px;\n",
       "    }\n",
       "\n",
       "    .colab-df-convert {\n",
       "      background-color: #E8F0FE;\n",
       "      border: none;\n",
       "      border-radius: 50%;\n",
       "      cursor: pointer;\n",
       "      display: none;\n",
       "      fill: #1967D2;\n",
       "      height: 32px;\n",
       "      padding: 0 0 0 0;\n",
       "      width: 32px;\n",
       "    }\n",
       "\n",
       "    .colab-df-convert:hover {\n",
       "      background-color: #E2EBFA;\n",
       "      box-shadow: 0px 1px 2px rgba(60, 64, 67, 0.3), 0px 1px 3px 1px rgba(60, 64, 67, 0.15);\n",
       "      fill: #174EA6;\n",
       "    }\n",
       "\n",
       "    .colab-df-buttons div {\n",
       "      margin-bottom: 4px;\n",
       "    }\n",
       "\n",
       "    [theme=dark] .colab-df-convert {\n",
       "      background-color: #3B4455;\n",
       "      fill: #D2E3FC;\n",
       "    }\n",
       "\n",
       "    [theme=dark] .colab-df-convert:hover {\n",
       "      background-color: #434B5C;\n",
       "      box-shadow: 0px 1px 3px 1px rgba(0, 0, 0, 0.15);\n",
       "      filter: drop-shadow(0px 1px 2px rgba(0, 0, 0, 0.3));\n",
       "      fill: #FFFFFF;\n",
       "    }\n",
       "  </style>\n",
       "\n",
       "    <script>\n",
       "      const buttonEl =\n",
       "        document.querySelector('#df-be4365eb-21c9-4118-b2e5-b3fe6a0a4ecb button.colab-df-convert');\n",
       "      buttonEl.style.display =\n",
       "        google.colab.kernel.accessAllowed ? 'block' : 'none';\n",
       "\n",
       "      async function convertToInteractive(key) {\n",
       "        const element = document.querySelector('#df-be4365eb-21c9-4118-b2e5-b3fe6a0a4ecb');\n",
       "        const dataTable =\n",
       "          await google.colab.kernel.invokeFunction('convertToInteractive',\n",
       "                                                    [key], {});\n",
       "        if (!dataTable) return;\n",
       "\n",
       "        const docLinkHtml = 'Like what you see? Visit the ' +\n",
       "          '<a target=\"_blank\" href=https://colab.research.google.com/notebooks/data_table.ipynb>data table notebook</a>'\n",
       "          + ' to learn more about interactive tables.';\n",
       "        element.innerHTML = '';\n",
       "        dataTable['output_type'] = 'display_data';\n",
       "        await google.colab.output.renderOutput(dataTable, element);\n",
       "        const docLink = document.createElement('div');\n",
       "        docLink.innerHTML = docLinkHtml;\n",
       "        element.appendChild(docLink);\n",
       "      }\n",
       "    </script>\n",
       "  </div>\n",
       "\n",
       "\n",
       "<div id=\"df-60f8ceae-5218-44cf-baba-47833043bea6\">\n",
       "  <button class=\"colab-df-quickchart\" onclick=\"quickchart('df-60f8ceae-5218-44cf-baba-47833043bea6')\"\n",
       "            title=\"Suggest charts.\"\n",
       "            style=\"display:none;\">\n",
       "\n",
       "<svg xmlns=\"http://www.w3.org/2000/svg\" height=\"24px\"viewBox=\"0 0 24 24\"\n",
       "     width=\"24px\">\n",
       "    <g>\n",
       "        <path d=\"M19 3H5c-1.1 0-2 .9-2 2v14c0 1.1.9 2 2 2h14c1.1 0 2-.9 2-2V5c0-1.1-.9-2-2-2zM9 17H7v-7h2v7zm4 0h-2V7h2v10zm4 0h-2v-4h2v4z\"/>\n",
       "    </g>\n",
       "</svg>\n",
       "  </button>\n",
       "\n",
       "<style>\n",
       "  .colab-df-quickchart {\n",
       "      --bg-color: #E8F0FE;\n",
       "      --fill-color: #1967D2;\n",
       "      --hover-bg-color: #E2EBFA;\n",
       "      --hover-fill-color: #174EA6;\n",
       "      --disabled-fill-color: #AAA;\n",
       "      --disabled-bg-color: #DDD;\n",
       "  }\n",
       "\n",
       "  [theme=dark] .colab-df-quickchart {\n",
       "      --bg-color: #3B4455;\n",
       "      --fill-color: #D2E3FC;\n",
       "      --hover-bg-color: #434B5C;\n",
       "      --hover-fill-color: #FFFFFF;\n",
       "      --disabled-bg-color: #3B4455;\n",
       "      --disabled-fill-color: #666;\n",
       "  }\n",
       "\n",
       "  .colab-df-quickchart {\n",
       "    background-color: var(--bg-color);\n",
       "    border: none;\n",
       "    border-radius: 50%;\n",
       "    cursor: pointer;\n",
       "    display: none;\n",
       "    fill: var(--fill-color);\n",
       "    height: 32px;\n",
       "    padding: 0;\n",
       "    width: 32px;\n",
       "  }\n",
       "\n",
       "  .colab-df-quickchart:hover {\n",
       "    background-color: var(--hover-bg-color);\n",
       "    box-shadow: 0 1px 2px rgba(60, 64, 67, 0.3), 0 1px 3px 1px rgba(60, 64, 67, 0.15);\n",
       "    fill: var(--button-hover-fill-color);\n",
       "  }\n",
       "\n",
       "  .colab-df-quickchart-complete:disabled,\n",
       "  .colab-df-quickchart-complete:disabled:hover {\n",
       "    background-color: var(--disabled-bg-color);\n",
       "    fill: var(--disabled-fill-color);\n",
       "    box-shadow: none;\n",
       "  }\n",
       "\n",
       "  .colab-df-spinner {\n",
       "    border: 2px solid var(--fill-color);\n",
       "    border-color: transparent;\n",
       "    border-bottom-color: var(--fill-color);\n",
       "    animation:\n",
       "      spin 1s steps(1) infinite;\n",
       "  }\n",
       "\n",
       "  @keyframes spin {\n",
       "    0% {\n",
       "      border-color: transparent;\n",
       "      border-bottom-color: var(--fill-color);\n",
       "      border-left-color: var(--fill-color);\n",
       "    }\n",
       "    20% {\n",
       "      border-color: transparent;\n",
       "      border-left-color: var(--fill-color);\n",
       "      border-top-color: var(--fill-color);\n",
       "    }\n",
       "    30% {\n",
       "      border-color: transparent;\n",
       "      border-left-color: var(--fill-color);\n",
       "      border-top-color: var(--fill-color);\n",
       "      border-right-color: var(--fill-color);\n",
       "    }\n",
       "    40% {\n",
       "      border-color: transparent;\n",
       "      border-right-color: var(--fill-color);\n",
       "      border-top-color: var(--fill-color);\n",
       "    }\n",
       "    60% {\n",
       "      border-color: transparent;\n",
       "      border-right-color: var(--fill-color);\n",
       "    }\n",
       "    80% {\n",
       "      border-color: transparent;\n",
       "      border-right-color: var(--fill-color);\n",
       "      border-bottom-color: var(--fill-color);\n",
       "    }\n",
       "    90% {\n",
       "      border-color: transparent;\n",
       "      border-bottom-color: var(--fill-color);\n",
       "    }\n",
       "  }\n",
       "</style>\n",
       "\n",
       "  <script>\n",
       "    async function quickchart(key) {\n",
       "      const quickchartButtonEl =\n",
       "        document.querySelector('#' + key + ' button');\n",
       "      quickchartButtonEl.disabled = true;  // To prevent multiple clicks.\n",
       "      quickchartButtonEl.classList.add('colab-df-spinner');\n",
       "      try {\n",
       "        const charts = await google.colab.kernel.invokeFunction(\n",
       "            'suggestCharts', [key], {});\n",
       "      } catch (error) {\n",
       "        console.error('Error during call to suggestCharts:', error);\n",
       "      }\n",
       "      quickchartButtonEl.classList.remove('colab-df-spinner');\n",
       "      quickchartButtonEl.classList.add('colab-df-quickchart-complete');\n",
       "    }\n",
       "    (() => {\n",
       "      let quickchartButtonEl =\n",
       "        document.querySelector('#df-60f8ceae-5218-44cf-baba-47833043bea6 button');\n",
       "      quickchartButtonEl.style.display =\n",
       "        google.colab.kernel.accessAllowed ? 'block' : 'none';\n",
       "    })();\n",
       "  </script>\n",
       "</div>\n",
       "    </div>\n",
       "  </div>\n"
      ],
      "text/plain": [
       "         mediaType          eps      startYr  sznOfRelease       rating  \\\n",
       "count  9245.000000  9245.000000  9245.000000   9245.000000  9245.000000   \n",
       "mean      3.926230     5.304273  2008.489778      3.382910     2.839696   \n",
       "std       2.330254     7.008580     9.684811      1.241348     0.789106   \n",
       "min       0.000000     1.000000  1980.000000      0.000000     0.844000   \n",
       "25%       2.000000     1.000000  2004.000000      4.000000     2.229000   \n",
       "50%       3.000000     1.000000  2012.000000      4.000000     2.851000   \n",
       "75%       6.000000    10.000000  2016.000000      4.000000     3.459000   \n",
       "max       8.000000    28.000000  2020.000000      4.000000     4.604000   \n",
       "\n",
       "          addedList  \n",
       "count   9245.000000  \n",
       "mean    1762.522445  \n",
       "std     2433.778160  \n",
       "min        0.000000  \n",
       "25%      107.000000  \n",
       "50%      592.000000  \n",
       "75%     2499.000000  \n",
       "max    10498.000000  "
      ]
     },
     "execution_count": 54,
     "metadata": {},
     "output_type": "execute_result"
    }
   ],
   "source": [
    "datos.describe()"
   ]
  },
  {
   "cell_type": "markdown",
   "metadata": {
    "id": "tASih_3I5HvE"
   },
   "source": [
    "Aquí se pueden ver los valores del promedio, desviación estándar, mínimo, máximo y los cuartiles para todos los datos numéricos.\n",
    "\n",
    "Se pueden destacar distintos resultados, como el hecho de que las series, en promedio, tienen 5 capítulos, lo cual tiene sentido porque muchas series de anime podrían corresponder a capítulos especiales o películas, por lo que no tienen un gran número de episodios."
   ]
  },
  {
   "cell_type": "markdown",
   "metadata": {
    "id": "CbF_RHlH0Y1h"
   },
   "source": [
    "Columna rating"
   ]
  },
  {
   "cell_type": "code",
   "execution_count": 55,
   "metadata": {
    "colab": {
     "base_uri": "https://localhost:8080/"
    },
    "executionInfo": {
     "elapsed": 34,
     "status": "ok",
     "timestamp": 1697300267524,
     "user": {
      "displayName": "Tomás",
      "userId": "06061372257499144673"
     },
     "user_tz": 180
    },
    "id": "H5_jLMDecrUv",
    "outputId": "8eb59f46-c440-4cda-b5e6-0a537c179569"
   },
   "outputs": [
    {
     "name": "stdout",
     "output_type": "stream",
     "text": [
      "Primer cuartil: 2.229\n",
      "Segundo cuartil: 2.851\n",
      "Tercer cuartil: 3.459\n"
     ]
    }
   ],
   "source": [
    "#Veo los valores de los cuartiles y se puede observar que el 25% de los puntajes(rating) estan igual o inferior a 2.229, la mitad esta igual o inferior a 2.851\n",
    "#y el 75% igual o inferior a 3.459\n",
    "q1 = datos[\"rating\"].quantile(0.25)\n",
    "q2 = datos[\"rating\"].quantile(0.5)\n",
    "q3 = datos[\"rating\"].quantile(0.75)\n",
    "print(\"Primer cuartil:\",q1)\n",
    "print(\"Segundo cuartil:\",q2)\n",
    "print(\"Tercer cuartil:\",q3)"
   ]
  },
  {
   "cell_type": "code",
   "execution_count": 56,
   "metadata": {
    "colab": {
     "base_uri": "https://localhost:8080/"
    },
    "executionInfo": {
     "elapsed": 30,
     "status": "ok",
     "timestamp": 1697300267524,
     "user": {
      "displayName": "Tomás",
      "userId": "06061372257499144673"
     },
     "user_tz": 180
    },
    "id": "AxKoBcBN0Hp-",
    "outputId": "c001c27d-121a-443c-fb34-59a2ef50feb7"
   },
   "outputs": [
    {
     "name": "stdout",
     "output_type": "stream",
     "text": [
      "\n",
      "Asimetria: -0.049831990991748135\n"
     ]
    }
   ],
   "source": [
    "#Veo la asimetria la cual muestra un valor muy bajo pero negativo por lo cual los valores tienden a concentrarse mas a la derecha\n",
    "print(\"\\nAsimetria:\",datos[\"rating\"].skew())"
   ]
  },
  {
   "cell_type": "code",
   "execution_count": 57,
   "metadata": {
    "colab": {
     "base_uri": "https://localhost:8080/",
     "height": 489
    },
    "executionInfo": {
     "elapsed": 775,
     "status": "ok",
     "timestamp": 1697300268272,
     "user": {
      "displayName": "Tomás",
      "userId": "06061372257499144673"
     },
     "user_tz": 180
    },
    "id": "DMYtvN1jztT8",
    "outputId": "6485fbfa-52be-4b05-8640-857ba458cb34"
   },
   "outputs": [
    {
     "data": {
      "text/plain": [
       "<Axes: title={'center': 'Distribucion del puntaje'}, xlabel='rating(Puntaje)', ylabel='Series'>"
      ]
     },
     "execution_count": 57,
     "metadata": {},
     "output_type": "execute_result"
    },
    {
     "data": {
      "image/png": "[encoded data removed]",
      "text/plain": [
       "<Figure size 640x480 with 1 Axes>"
      ]
     },
     "metadata": {},
     "output_type": "display_data"
    }
   ],
   "source": [
    "#Procedo a graficar y se puede observar que la distribucion a simple vista pareciera ser casi simetrica\n",
    "fig,axs=plt.subplots()\n",
    "plt.title(\"Distribucion del puntaje\")\n",
    "plt.xlabel(\"rating(Puntaje)\")\n",
    "plt.ylabel(\"Series\")\n",
    "sns.histplot(datos[\"rating\"],kde=True)"
   ]
  },
  {
   "cell_type": "markdown",
   "metadata": {
    "id": "fZG-6usc1VUc"
   },
   "source": [
    "Columna addedList"
   ]
  },
  {
   "cell_type": "code",
   "execution_count": 58,
   "metadata": {
    "colab": {
     "base_uri": "https://localhost:8080/"
    },
    "executionInfo": {
     "elapsed": 19,
     "status": "ok",
     "timestamp": 1697300268273,
     "user": {
      "displayName": "Tomás",
      "userId": "06061372257499144673"
     },
     "user_tz": 180
    },
    "id": "hmMB8-2liDXF",
    "outputId": "c0c597d1-393f-43a1-bf3c-b937f284b8a2"
   },
   "outputs": [
    {
     "name": "stdout",
     "output_type": "stream",
     "text": [
      "Primer cuartil: 107.0\n",
      "Segundo cuartil: 592.0\n",
      "Tercer cuartil: 2499.0\n"
     ]
    }
   ],
   "source": [
    "#Veo los valores de los cuartiles y como se puede observar el 25% de las series tiene un valor de agregado a la lista igual o inferior a 107, la mitad igual o inferior a 592\n",
    "#y el 75% igual o inferior a 2499\n",
    "q1 = datos[\"addedList\"].quantile(0.25)\n",
    "q2 = datos[\"addedList\"].quantile(0.5)\n",
    "q3 = datos[\"addedList\"].quantile(0.75)\n",
    "print(\"Primer cuartil:\",q1)\n",
    "print(\"Segundo cuartil:\",q2)\n",
    "print(\"Tercer cuartil:\",q3)"
   ]
  },
  {
   "cell_type": "code",
   "execution_count": 59,
   "metadata": {
    "colab": {
     "base_uri": "https://localhost:8080/"
    },
    "executionInfo": {
     "elapsed": 14,
     "status": "ok",
     "timestamp": 1697300268273,
     "user": {
      "displayName": "Tomás",
      "userId": "06061372257499144673"
     },
     "user_tz": 180
    },
    "id": "2Ch1vWNj1fQW",
    "outputId": "882da842-aee6-4000-cdbe-84c897e0eb63"
   },
   "outputs": [
    {
     "name": "stdout",
     "output_type": "stream",
     "text": [
      "\n",
      "Asimetria: 1.7325549854924227\n"
     ]
    }
   ],
   "source": [
    "#Veo la asimetria la cual muestra un valor positivo lo cual significa que los valores se concentran mas hacia la izquierda de la distribucion\n",
    "print(\"\\nAsimetria:\",datos[\"addedList\"].skew())"
   ]
  },
  {
   "cell_type": "code",
   "execution_count": 60,
   "metadata": {
    "colab": {
     "base_uri": "https://localhost:8080/",
     "height": 466
    },
    "executionInfo": {
     "elapsed": 393,
     "status": "ok",
     "timestamp": 1697300268656,
     "user": {
      "displayName": "Tomás",
      "userId": "06061372257499144673"
     },
     "user_tz": 180
    },
    "id": "hdqO56FWyd0d",
    "outputId": "94159a17-bc9d-4ecf-ae8b-49edec97a13b"
   },
   "outputs": [
    {
     "data": {
      "text/plain": [
       "<Axes: xlabel='Agregado a lista', ylabel='Series'>"
      ]
     },
     "execution_count": 60,
     "metadata": {},
     "output_type": "execute_result"
    },
    {
     "data": {
      "image/png": "[encoded data removed]",
      "text/plain": [
       "<Figure size 640x480 with 1 Axes>"
      ]
     },
     "metadata": {},
     "output_type": "display_data"
    }
   ],
   "source": [
    "fig,axs=plt.subplots()\n",
    "plt.xlabel(\"Agregado a lista\")\n",
    "plt.ylabel(\"Series\")\n",
    "sns.histplot(datos[\"addedList\"],kde=True)"
   ]
  },
  {
   "cell_type": "markdown",
   "metadata": {
    "id": "vKy3eKeeMM8o"
   },
   "source": [
    "Aquí se puede observar cómo la distribución muestra una asimetría positiva y cómo el 75% de las series se concentran en los valores por debajo del 2499, como se vio anteriormente, siendo en comparación pocas las series que logran alcanzar un gran número de usuarios que las agreguen a su lista."
   ]
  },
  {
   "cell_type": "markdown",
   "metadata": {
    "id": "LsDikr5W2ypn"
   },
   "source": [
    "Columna eps"
   ]
  },
  {
   "cell_type": "code",
   "execution_count": 61,
   "metadata": {
    "colab": {
     "base_uri": "https://localhost:8080/"
    },
    "executionInfo": {
     "elapsed": 15,
     "status": "ok",
     "timestamp": 1697300268656,
     "user": {
      "displayName": "Tomás",
      "userId": "06061372257499144673"
     },
     "user_tz": 180
    },
    "id": "KxeKSKxwxSxG",
    "outputId": "0b82d1b8-31b1-49a2-ebd2-13715f372c9f"
   },
   "outputs": [
    {
     "name": "stdout",
     "output_type": "stream",
     "text": [
      "Primer cuartil: 1.0\n",
      "Segundo cuartil: 1.0\n",
      "Tercer cuartil: 10.0\n"
     ]
    }
   ],
   "source": [
    "#Veo los valores de los cuartiles y como se observar que el 50% de los episodios(episodes) estan igual o inferior a 1 y el 75% igual o inferior a 2499\n",
    "#Cabe destacar que el valor del primer y segundo cuartil es el mismo\n",
    "q1 = datos[\"eps\"].quantile(0.25)\n",
    "q2 = datos[\"eps\"].quantile(0.5)\n",
    "q3 = datos[\"eps\"].quantile(0.75)\n",
    "print(\"Primer cuartil:\",q1)\n",
    "print(\"Segundo cuartil:\",q2)\n",
    "print(\"Tercer cuartil:\",q3)"
   ]
  },
  {
   "cell_type": "code",
   "execution_count": 62,
   "metadata": {
    "colab": {
     "base_uri": "https://localhost:8080/"
    },
    "executionInfo": {
     "elapsed": 14,
     "status": "ok",
     "timestamp": 1697300268657,
     "user": {
      "displayName": "Tomás",
      "userId": "06061372257499144673"
     },
     "user_tz": 180
    },
    "id": "4jPUPbeZ23CT",
    "outputId": "fb036910-68f7-45a7-b15c-7587b69062fe"
   },
   "outputs": [
    {
     "name": "stdout",
     "output_type": "stream",
     "text": [
      "\n",
      "Asimetria: 1.6987689166913058\n"
     ]
    }
   ],
   "source": [
    "##Veo la asimetria la cual muestra un valor positivo lo cual significa que los valores se concentran mas hacia la izquierda de la distribucion\n",
    "print(\"\\nAsimetria:\",datos[\"eps\"].skew())"
   ]
  },
  {
   "cell_type": "code",
   "execution_count": 63,
   "metadata": {
    "colab": {
     "base_uri": "https://localhost:8080/",
     "height": 466
    },
    "executionInfo": {
     "elapsed": 353,
     "status": "ok",
     "timestamp": 1697300269000,
     "user": {
      "displayName": "Tomás",
      "userId": "06061372257499144673"
     },
     "user_tz": 180
    },
    "id": "pYK2ZTfOxt4p",
    "outputId": "f3b59035-0309-45f6-8432-63a0f3078628"
   },
   "outputs": [
    {
     "data": {
      "text/plain": [
       "<Axes: xlabel='Episodios', ylabel='Series'>"
      ]
     },
     "execution_count": 63,
     "metadata": {},
     "output_type": "execute_result"
    },
    {
     "data": {
      "image/png": "[encoded data removed]",
      "text/plain": [
       "<Figure size 640x480 with 1 Axes>"
      ]
     },
     "metadata": {},
     "output_type": "display_data"
    }
   ],
   "source": [
    "fig,axs=plt.subplots()\n",
    "plt.xlabel(\"Episodios\")\n",
    "plt.ylabel(\"Series\")\n",
    "sns.histplot(datos[\"eps\"],kde=True)"
   ]
  },
  {
   "cell_type": "markdown",
   "metadata": {
    "id": "0Fhsb3QLMDYB"
   },
   "source": [
    "Se puede observar que la mayor parte de los valores se concentran a la izquierda, pero hay variaciones que forman picos y valles, lo cual significa que las series parecen mostrar una tendencia a seguir ciertos intervalos particulares en cuanto a los episodios que pueden tener."
   ]
  },
  {
   "cell_type": "markdown",
   "metadata": {
    "id": "i3ETLJ6y4W-z"
   },
   "source": [
    "Columna startYr"
   ]
  },
  {
   "cell_type": "code",
   "execution_count": 64,
   "metadata": {
    "colab": {
     "base_uri": "https://localhost:8080/"
    },
    "executionInfo": {
     "elapsed": 17,
     "status": "ok",
     "timestamp": 1697300269001,
     "user": {
      "displayName": "Tomás",
      "userId": "06061372257499144673"
     },
     "user_tz": 180
    },
    "id": "NkjfJVAW4QgE",
    "outputId": "72792461-ba31-4c5b-b216-2625d0afff72"
   },
   "outputs": [
    {
     "name": "stdout",
     "output_type": "stream",
     "text": [
      "Primer cuartil: 2004.0\n",
      "Segundo cuartil: 2012.0\n",
      "Tercer cuartil: 2016.0\n"
     ]
    }
   ],
   "source": [
    "#Veo que un 25% de las series tienen un año de emision igual o inferior al 2004, la mitad tiene igual o inferior al 2012 y el 75% igual o inferior al 2016\n",
    "q1 = datos[\"startYr\"].quantile(0.25)\n",
    "q2 = datos[\"startYr\"].quantile(0.5)\n",
    "q3 = datos[\"startYr\"].quantile(0.75)\n",
    "print(\"Primer cuartil:\",q1)\n",
    "print(\"Segundo cuartil:\",q2)\n",
    "print(\"Tercer cuartil:\",q3)"
   ]
  },
  {
   "cell_type": "code",
   "execution_count": 65,
   "metadata": {
    "colab": {
     "base_uri": "https://localhost:8080/"
    },
    "executionInfo": {
     "elapsed": 14,
     "status": "ok",
     "timestamp": 1697300269001,
     "user": {
      "displayName": "Tomás",
      "userId": "06061372257499144673"
     },
     "user_tz": 180
    },
    "id": "TafZaxdz4zpH",
    "outputId": "310e383a-ffc4-4f8f-e41f-ae8e014509bc"
   },
   "outputs": [
    {
     "name": "stdout",
     "output_type": "stream",
     "text": [
      "\n",
      "Asimetria: -1.0989012850390478\n"
     ]
    }
   ],
   "source": [
    "##Veo la asimetria la cual muestra un valor negativo lo cual significa que los valores se concentran mas hacia la derecha de la distribucion\n",
    "print(\"\\nAsimetria:\",datos[\"startYr\"].skew())"
   ]
  },
  {
   "cell_type": "code",
   "execution_count": 66,
   "metadata": {
    "colab": {
     "base_uri": "https://localhost:8080/",
     "height": 466
    },
    "executionInfo": {
     "elapsed": 370,
     "status": "ok",
     "timestamp": 1697300269360,
     "user": {
      "displayName": "Tomás",
      "userId": "06061372257499144673"
     },
     "user_tz": 180
    },
    "id": "NICJ0cOr46QD",
    "outputId": "411760ba-575e-4dfd-f8d5-96209a947ebf"
   },
   "outputs": [
    {
     "data": {
      "text/plain": [
       "<Axes: xlabel='Año de emision', ylabel='Series'>"
      ]
     },
     "execution_count": 66,
     "metadata": {},
     "output_type": "execute_result"
    },
    {
     "data": {
      "image/png": "[encoded data removed]",
      "text/plain": [
       "<Figure size 640x480 with 1 Axes>"
      ]
     },
     "metadata": {},
     "output_type": "display_data"
    }
   ],
   "source": [
    "fig,axs=plt.subplots()\n",
    "plt.xlabel(\"Año de emision\")\n",
    "plt.ylabel(\"Series\")\n",
    "sns.histplot(datos[\"startYr\"],kde=True)"
   ]
  },
  {
   "cell_type": "markdown",
   "metadata": {
    "id": "9FmKVpUBLYsw"
   },
   "source": [
    "Se puede observar que la mayor parte de las series se concentran hacia la derecha, lo cual indica que, a medida que ha pasado el tiempo, ha ido aumentando el número de series en emisión, lo cual confirma que la producción de series de anime ha estado aumentando a lo largo del tiempo.\n",
    "\n",
    "Cabe señalar que en el último año se muestra una baja en el número de series, pero eso se puede explicar por el hecho de que la fuente de los datos está limitada hasta el 15 de junio del 2020, por lo que los datos del último año están incompletos."
   ]
  },
  {
   "cell_type": "markdown",
   "metadata": {
    "id": "TMxNJZ216w77"
   },
   "source": [
    "Columnas rating y hasContentWarn"
   ]
  },
  {
   "cell_type": "code",
   "execution_count": 67,
   "metadata": {
    "colab": {
     "base_uri": "https://localhost:8080/",
     "height": 542
    },
    "executionInfo": {
     "elapsed": 542,
     "status": "ok",
     "timestamp": 1697300269896,
     "user": {
      "displayName": "Tomás",
      "userId": "06061372257499144673"
     },
     "user_tz": 180
    },
    "id": "UCNBYU8u43pt",
    "outputId": "c7a30d1f-12a0-47e8-b458-c45628780e8e"
   },
   "outputs": [
    {
     "data": {
      "image/png": "[encoded data removed]",
      "text/plain": [
       "<Figure size 800x600 with 1 Axes>"
      ]
     },
     "metadata": {},
     "output_type": "display_data"
    }
   ],
   "source": [
    "labels = [\"False(Apto par todo publico)\", \"True(No apto para todo publico)\"]\n",
    "order = [0,1]\n",
    "\n",
    "plt.figure(figsize=(8, 6))\n",
    "sns.boxplot(x=\"hasContentWarn\",y=\"rating\",data=datos, order=order)\n",
    "plt.ylabel(\"Puntaje\")\n",
    "plt.xlabel(\"Tipo de contenido\")\n",
    "plt.xticks(range(len(labels)), labels)\n",
    "plt.show()"
   ]
  },
  {
   "cell_type": "markdown",
   "metadata": {
    "id": "lxYPokthLRap"
   },
   "source": [
    "Aquí se puede observar la relación que hay entre el contenido, según si es o no apto para todo público, y el puntaje, y se puede ver que el contenido no apto para todo público tiende a tener un puntaje ligeramente superior, ya que sus cuartiles, máximos y mínimos tienen un valor más alto."
   ]
  },
  {
   "cell_type": "markdown",
   "metadata": {
    "id": "8QfiBWKg1HdK"
   },
   "source": [
    "Columnas rating y sznOfRelease"
   ]
  },
  {
   "cell_type": "code",
   "execution_count": 68,
   "metadata": {
    "colab": {
     "base_uri": "https://localhost:8080/",
     "height": 542
    },
    "executionInfo": {
     "elapsed": 24,
     "status": "ok",
     "timestamp": 1697300269896,
     "user": {
      "displayName": "Tomás",
      "userId": "06061372257499144673"
     },
     "user_tz": 180
    },
    "id": "ZzmksfiUt9jE",
    "outputId": "21cbb642-af39-4777-b6aa-e7e7b4335a16"
   },
   "outputs": [
    {
     "data": {
      "image/png": "[encoded data removed]",
      "text/plain": [
       "<Figure size 800x600 with 1 Axes>"
      ]
     },
     "metadata": {},
     "output_type": "display_data"
    }
   ],
   "source": [
    "labels = [\"Spring\", \"Fall\", \"Winter\", \"Summer\"]\n",
    "order = [0,1,2,3]\n",
    "\n",
    "plt.figure(figsize=(8, 6))\n",
    "sns.boxplot(x=\"sznOfRelease\",y=\"rating\",data=datos, order=order)\n",
    "plt.ylabel(\"Puntaje\")\n",
    "plt.xlabel(\"Estacion\")\n",
    "plt.xticks(range(len(labels)), labels)\n",
    "plt.show()"
   ]
  },
  {
   "cell_type": "markdown",
   "metadata": {
    "id": "U8hsLwfYK3jQ"
   },
   "source": [
    "Aquí se busca observar si existe alguna relación entre la estación en la cual es emitida una serie y su puntaje, y se puede observar ligeras diferencias entre sus mínimos, máximos y sus cuartiles."
   ]
  },
  {
   "cell_type": "markdown",
   "metadata": {
    "id": "X66o6qp2t-Gp"
   },
   "source": [
    "Columnas rating y mediaType"
   ]
  },
  {
   "cell_type": "code",
   "execution_count": 69,
   "metadata": {
    "colab": {
     "base_uri": "https://localhost:8080/",
     "height": 419
    },
    "executionInfo": {
     "elapsed": 499,
     "status": "ok",
     "timestamp": 1697300270377,
     "user": {
      "displayName": "Tomás",
      "userId": "06061372257499144673"
     },
     "user_tz": 180
    },
    "id": "cJwWsA-vpE1S",
    "outputId": "ae2c10ad-24b8-4bfd-ae18-178011839e24"
   },
   "outputs": [
    {
     "data": {
      "image/png": "[encoded data removed]",
      "text/plain": [
       "<Figure size 1500x600 with 1 Axes>"
      ]
     },
     "metadata": {},
     "output_type": "display_data"
    }
   ],
   "source": [
    "labels = [\"TV Special\", \"Movie\", \"Web\", \"OVA\",\"DVD Special\",\"Music Video\",\"TV\"]\n",
    "order = [0,1,2,3,4,6,7]\n",
    "\n",
    "plt.figure(figsize=(15, 6))\n",
    "sns.boxplot(x=\"mediaType\",y=\"rating\",data=datos, order=order)\n",
    "plt.ylabel(\"Puntaje\")\n",
    "plt.xlabel(\"Tipo de Medio\")\n",
    "plt.xticks(range(len(labels)), labels)\n",
    "plt.show()"
   ]
  },
  {
   "cell_type": "markdown",
   "metadata": {
    "id": "zOYJHV7jKvoZ"
   },
   "source": [
    "Aquí se busca ver si hay una relación entre el puntaje y el tipo de medio en el que se emite una serie, donde se puede observar que TV, DVD Special, OVA, Movie y TV Special muestran un mayor puntaje en contraste con otras series como Web y Music Video.\n",
    "\n",
    "Para este gráfico se ha omitido la categoría Other y Desconocido, ya que la primera no muestra una categoría concreta y la última es para valores desconocidos, por lo que no se tomará en cuenta."
   ]
  },
  {
   "cell_type": "code",
   "execution_count": 71,
   "metadata": {
    "colab": {
     "base_uri": "https://localhost:8080/",
     "height": 783
    },
    "executionInfo": {
     "elapsed": 1703,
     "status": "ok",
     "timestamp": 1697300285433,
     "user": {
      "displayName": "Tomás",
      "userId": "06061372257499144673"
     },
     "user_tz": 180
    },
    "id": "9gcoZDCOixIj",
    "outputId": "fb7d6bad-b925-40fc-84c3-a50547ea5f17"
   },
   "outputs": [
    {
     "data": {
      "image/png": "[encoded data removed]",
      "text/plain": [
       "<Figure size 1000x800 with 2 Axes>"
      ]
     },
     "metadata": {},
     "output_type": "display_data"
    }
   ],
   "source": [
    "#Se puede observar que existe una correlacion entre el tipo de medio(mediaType) y eps(Episodios)\n",
    "#Se puede observar que existe una correlacion entre el puntaje(rating) y las series agregadas a lista(addedList)\n",
    "#Se puede observar que existe una correlacion entre el la cantidad de episodios(eps) y la series agregadas a listaa(addedList)\n",
    "plt.figure(figsize=(10,8))\n",
    "sns.heatmap(datos.corr(),annot=True)\n",
    "plt.show()"
   ]
  },
  {
   "cell_type": "markdown",
   "metadata": {
    "id": "NiS6tU622qJX"
   },
   "source": [
    "#Evaluación\n",
    "\n",
    "**1. Se busca conocer si existe una correlación entre el tipo de medio y el número de episodios de una serie.**\n",
    "\n",
    "Resultado: Como se observa en el heat map, parece haber una correlación entre las dos variables, por lo cual hay ciertos tipos de medio que tienden a tener más episodios. Esto tiene sentido, puesto que medios como películas, OVA o especiales de TV o DVD tienden, en general, a tener uno o pocos episodios en comparación con el resto.\n",
    "\n",
    "**2. Se busca conocer si existe una correlación entre el puntaje y la cantidad de usuarios que la tienen agregada a su lista.**\n",
    "\n",
    "Resultado: Como se observa en el heat map, parece haber una correlación entre las dos variables, lo que se puede interpretar como que las series que suelen ser más populares y, por lo tanto, más personas las añaden a su lista, también suelen tener un mayor puntaje, independientemente de la categoría con la que sea marcada (vista, desea ver, abandonada o viendo).\n",
    "\n",
    "**3. Se busca conocer si existe una correlación entre la cantidad de episodios que tiene una serie y la cantidad de usuarios que la tienen agregada a su lista.**\n",
    "\n",
    "Resultado: Como se observa en el heat map, parece haber una correlación positiva entre las dos variables, por lo que parece que las series con mayor número de episodios tienden a tener mayor cantidad de usuarios que la agregan a su lista. Esto podría significar que las series más largas suelen generar mayor interés.\n",
    "\n",
    "**4. Se busca conocer si existe una correlación entre la estación del año en el que fue emitida una serie y su puntaje.**\n",
    "\n",
    "Resultado: Como se pudo observar en el grafico de caja anterior no parece haber una correlacion\n",
    "\n",
    "**5. Se busca conocer si existe una correlacion entre el tipo de medio de una serie y su puntaje.**\n",
    "\n",
    "Resultado: Como se pudo observar en el gráfico de caja anterior, hay ciertos tipos de medio que tienden a mostrar un mayor puntaje, por lo cual sí hay una correlación.\n",
    "\n",
    "**6. Se busca conocer si existe una correlación entre si una serie es o no apta para todo público y su puntaje.**\n",
    "\n",
    "Resultado: Como se pudo observar en el gráfico de caja, las series con contenido no apto para todo público tienden a tener ligeramente un mayor puntaje.\n",
    "\n",
    "**7. Se busca conocer si existe una correlación entre el año de emisión de una serie y su puntaje.**\n",
    "\n",
    "Resultado: Como se observa en el heatmap, no parece haber ninguna correlación entre ambas variables, por lo cual el año no es un factor en el puntaje que recibe una serie.\n",
    "\n",
    "**8. Se busca conocer si la distribución de los episodios suele ser uniforme para todos los valores o tienden a concentrarse en ciertos intervalos determinados.**\n",
    "\n",
    "Resultado: Como se pudo observar en la distribución de los episodios, estos tienden a concentrarse más en ciertos intervalos, lo cual es esperable, puesto que al momento de definir la cantidad de capítulos de una serie, los estudios tienden a definirlos en torno a los 12 o 25 capítulos. En el caso de películas y capítulos especiales, estos suelen tener entre 1 y 4 capítulos, lo cual se confirma con los resultados.\n",
    "\n",
    "**9. Se busca conocer si la cantidad de series ha estado en aumento a medida que avanza el tiempo.**\n",
    "\n",
    "Resultado: Como se observó gráficamente con anterioridad, la cantidad de series es mayor a medida que aumenta el año, por lo cual se confirma esta hipótesis.\n"
   ]
  }
 ],
 "metadata": {
  "colab": {
   "provenance": []
  },
  "kernelspec": {
   "display_name": "Python 3 (ipykernel)",
   "language": "python",
   "name": "python3"
  },
  "language_info": {
   "codemirror_mode": {
    "name": "ipython",
    "version": 3
   },
   "file_extension": ".py",
   "mimetype": "text/x-python",
   "name": "python",
   "nbconvert_exporter": "python",
   "pygments_lexer": "ipython3",
   "version": "3.13.5"
  }
 },
 "nbformat": 4,
 "nbformat_minor": 4
}
